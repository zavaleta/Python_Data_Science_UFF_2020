{
  "nbformat": 4,
  "nbformat_minor": 0,
  "metadata": {
    "colab": {
      "name": "Python_Data_Science_UFF_2020_M1.ipynb",
      "provenance": [],
      "collapsed_sections": [],
      "include_colab_link": true
    },
    "kernelspec": {
      "display_name": "Python 3",
      "language": "python",
      "name": "python3"
    },
    "language_info": {
      "codemirror_mode": {
        "name": "ipython",
        "version": 3
      },
      "file_extension": ".py",
      "mimetype": "text/x-python",
      "name": "python",
      "nbconvert_exporter": "python",
      "pygments_lexer": "ipython3",
      "version": "3.7.6"
    }
  },
  "cells": [
    {
      "cell_type": "markdown",
      "metadata": {
        "id": "view-in-github",
        "colab_type": "text"
      },
      "source": [
        "<a href=\"https://colab.research.google.com/github/zavaleta/Python_Data_Science_UFF_2020/blob/master/Python_Data_Science_UFF_2020_M1.ipynb\" target=\"_parent\"><img src=\"https://colab.research.google.com/assets/colab-badge.svg\" alt=\"Open In Colab\"/></a>"
      ]
    },
    {
      "cell_type": "markdown",
      "metadata": {
        "colab_type": "text",
        "id": "5tFTUD_Jcn7i"
      },
      "source": [
        "# Python para Data Science\n",
        "## PGEB UFF 2020\n",
        "### Prof. Dr. Jorge Zavaleta\n",
        "#### zavaleta.jorge@gmail.com\n",
        "##### Niterói, 17 ao 20 fevreiro, 2020"
      ]
    },
    {
      "cell_type": "markdown",
      "metadata": {
        "id": "SGtVDpgrelsU",
        "colab_type": "text"
      },
      "source": [
        "------"
      ]
    },
    {
      "cell_type": "markdown",
      "metadata": {
        "id": "Aap9zu6XbFOv",
        "colab_type": "text"
      },
      "source": [
        "# Linguagem Markdown\n",
        "**Markdown** é uma linguagem simples de marcação que converte seu texto em HTML válido."
      ]
    },
    {
      "cell_type": "markdown",
      "metadata": {
        "colab_type": "text",
        "id": "2C6hNnbedNOe"
      },
      "source": [
        "# Módulo 01 - Python Básico"
      ]
    },
    {
      "cell_type": "markdown",
      "metadata": {
        "id": "7PPeoeNhaHZD",
        "colab_type": "text"
      },
      "source": [
        "**Python** é uma linguagem de programação de alto nível, interpretada, de script, imperativa, orientada a objetos (OO), funcional, de tipagem dinâmica e permite:\n",
        "\n",
        "- Construir sistemas desktop com Tkinter, WxPython, etc.\n",
        "- Construir sistemas Web com Django, Flask, Pyramid, etc.\n",
        "- Análisar dados usando Inteligência Artificial (IA) e Machine Learning.\n",
        "- Usar bibliotecas especiais para o Análise de Dados e Visualização Gráfica (Numpy,sciPy, Pandas, Matplotlib, seaborn, etc).\n",
        "- Construir aplicativos com Kivy e Pybee.\n",
        "\n",
        "O Python têm características que possibilitam escrever códigos em menos linhas em comparação a outras linguagens de programação atuais."
      ]
    },
    {
      "cell_type": "markdown",
      "metadata": {
        "id": "dl_55ty-aWtg",
        "colab_type": "text"
      },
      "source": [
        "## Variaveis e Tipos de dados\n",
        "**Variáveis** são um dos recursos mais básicos das linguagens de programação, utilizadas para armazenar valores em memória e permitem gravar e ler dados com facilidade a partir de um nome definido pelo programador.\n"
      ]
    },
    {
      "cell_type": "markdown",
      "metadata": {
        "id": "lYlZdF0YaHZS",
        "colab_type": "text"
      },
      "source": [
        "### Atribuição de Variáveis"
      ]
    },
    {
      "cell_type": "code",
      "metadata": {
        "id": "CSvLxYwEc9xN",
        "colab_type": "code",
        "colab": {}
      },
      "source": [
        ""
      ],
      "execution_count": 0,
      "outputs": []
    },
    {
      "cell_type": "code",
      "metadata": {
        "id": "k4cDxe4-aHZV",
        "colab_type": "code",
        "colab": {}
      },
      "source": [
        "# comentario em Python \n",
        "oi ='Bom dia!!'\n",
        "nome =' Jorge'\n",
        "num = 63\n",
        "verdade = True\n",
        "n_real = 4.15\n",
        "# imprimindo os resultados\n",
        "print('Tipo string :',oi+nome)\n",
        "print(oi)\n",
        "print('Tipo Inteiro :',num)\n",
        "print('Tipo Booleano :',verdade)\n",
        "print('Tipo Real :',n_real)"
      ],
      "execution_count": 0,
      "outputs": []
    },
    {
      "cell_type": "markdown",
      "metadata": {
        "id": "egnCcWEoaHZg",
        "colab_type": "text"
      },
      "source": [
        "### Cálculos com Variáveis"
      ]
    },
    {
      "cell_type": "code",
      "metadata": {
        "id": "YZVmGOD_aHZm",
        "colab_type": "code",
        "colab": {}
      },
      "source": [
        "# Atribuição de valores\n",
        "x = 10\n",
        "y = x + 5\n",
        "print('y = ',y)"
      ],
      "execution_count": 0,
      "outputs": []
    },
    {
      "cell_type": "markdown",
      "metadata": {
        "id": "Od43Yvz8aHZz",
        "colab_type": "text"
      },
      "source": [
        "Com as variáveis podem ser realizadas operações de:\n",
        "    - soma\n",
        "    - substração\n",
        "    - Multiplicação\n",
        "    - Potenciação\n",
        "    - Resto de variáveis\n",
        "    - divisão de variáveis"
      ]
    },
    {
      "cell_type": "markdown",
      "metadata": {
        "id": "nNrTRjwEaHZ3",
        "colab_type": "text"
      },
      "source": [
        "### Tipos de Dados e Conversão de Tipos\n",
        "O **tipo** é uma forma de classificar as informação. As linguagens de programação normalmente trazem implementado o que é chamado de tipos primitivos. Em Python existem 4 tipos numéricos:\n",
        "* inteiro (int)\n",
        "* ponto flutuante (float)\n",
        "* booleano (bool)\n",
        "* complexo (complex)"
      ]
    },
    {
      "cell_type": "code",
      "metadata": {
        "id": "KoIAoztUaHZ7",
        "colab_type": "code",
        "colab": {}
      },
      "source": [
        "# Variáveis para strings\n",
        "x1 = '4'\n",
        "x2 ='3.1415'\n",
        "x3 = 'True'\n",
        "x11 = str(x1) #\n",
        "print(x11,':',type(x1))\n",
        "print(x11)\n",
        "# Variáveis para inteiros\n",
        "n1 = 5\n",
        "n2 = 2\n",
        "n3 = 0\n",
        "n11 = int(5) #\n",
        "print(n11,type(5))\n",
        "print(n11)\n",
        "# variáveis para reais\n",
        "r1 = 4.5\n",
        "r2 = 1.0\n",
        "r3 = -1.5\n",
        "r11 = float(r1) #\n",
        "print(r11,type(r1))\n",
        "print(r11)\n",
        "# variáveis para booleanos\n",
        "t1 = True\n",
        "t2 = False\n",
        "t11 = bool(t1) #\n",
        "print(t11,type(t1))\n",
        "print(t11)"
      ],
      "execution_count": 0,
      "outputs": []
    },
    {
      "cell_type": "markdown",
      "metadata": {
        "id": "E4AvFYfnaHaI",
        "colab_type": "text"
      },
      "source": [
        "### Ajuda (Help)"
      ]
    },
    {
      "cell_type": "code",
      "metadata": {
        "id": "NB4_PcPgaHaM",
        "colab_type": "code",
        "colab": {}
      },
      "source": [
        "# Pedir ajuda a qualquer momento!!!\n",
        "# help(str)"
      ],
      "execution_count": 0,
      "outputs": []
    },
    {
      "cell_type": "markdown",
      "metadata": {
        "id": "uLGTQeYlaHaX",
        "colab_type": "text"
      },
      "source": [
        "## **Strings**\n",
        "Uma **String** representa um conjunto de caracteres disposto numa determinada ordem. O termo String se refere a um conjunto de caracteres."
      ]
    },
    {
      "cell_type": "code",
      "metadata": {
        "id": "fVKxbS6VaHaa",
        "colab_type": "code",
        "colab": {}
      },
      "source": [
        "# strings\n",
        "nome = 'Jorge'\n",
        "print('Nome :', nome)"
      ],
      "execution_count": 0,
      "outputs": []
    },
    {
      "cell_type": "markdown",
      "metadata": {
        "id": "nIR5zyNlaHag",
        "colab_type": "text"
      },
      "source": [
        "**Exercício**: Escreva usando strings seus dados: nome, endereço, cep, etc."
      ]
    },
    {
      "cell_type": "markdown",
      "metadata": {
        "id": "Cu30eBvuaHai",
        "colab_type": "text"
      },
      "source": [
        "### Operações com Strings"
      ]
    },
    {
      "cell_type": "code",
      "metadata": {
        "id": "r0_cHOkuaHan",
        "colab_type": "code",
        "colab": {}
      },
      "source": [
        "# definir uma string\n",
        "frase = ' Niterói é uma cidade instessante de visitar.'\n",
        "print('Mensagem : ',frase)"
      ],
      "execution_count": 0,
      "outputs": []
    },
    {
      "cell_type": "code",
      "metadata": {
        "id": "YbgUGqLmi1pJ",
        "colab_type": "code",
        "colab": {}
      },
      "source": [
        "# soma de strings (concatenação de string)\n",
        "frase0 = frase + \" Não posso acreditar!!\"\n",
        "print(frase0)\n",
        "print(' Número de caracteres da frase : ',len(frase0))"
      ],
      "execution_count": 0,
      "outputs": []
    },
    {
      "cell_type": "code",
      "metadata": {
        "id": "P6r4IJnMiUHE",
        "colab_type": "code",
        "colab": {}
      },
      "source": [
        "# multiplicação de strings\n",
        "frase1 = frase*2\n",
        "print(frase1)"
      ],
      "execution_count": 0,
      "outputs": []
    },
    {
      "cell_type": "code",
      "metadata": {
        "id": "wn4Sopzaj27D",
        "colab_type": "code",
        "colab": {}
      },
      "source": [
        "# caracteres numa string\n",
        "caracter = 'ó' in frase\n",
        "print('Caracter achado : ',caracter)"
      ],
      "execution_count": 0,
      "outputs": []
    },
    {
      "cell_type": "code",
      "metadata": {
        "id": "22DeMZihkiV6",
        "colab_type": "code",
        "colab": {}
      },
      "source": [
        "# Achar um caracter específico\n",
        "char0 = frase[5]\n",
        "print('Char: ',char0)"
      ],
      "execution_count": 0,
      "outputs": []
    },
    {
      "cell_type": "code",
      "metadata": {
        "id": "HBT6pFp2lVX3",
        "colab_type": "code",
        "colab": {}
      },
      "source": [
        "# achar substrings\n",
        "chars0 = frase[0:10]\n",
        "print('Substrings : ',chars0)"
      ],
      "execution_count": 0,
      "outputs": []
    },
    {
      "cell_type": "code",
      "metadata": {
        "id": "-tCv9Mpdkild",
        "colab_type": "code",
        "colab": {}
      },
      "source": [
        "# Visualizar todos os caracteres de uma string\n",
        "for c in frase:\n",
        "    print('Char : ',c)"
      ],
      "execution_count": 0,
      "outputs": []
    },
    {
      "cell_type": "code",
      "metadata": {
        "id": "RuQGGONcn_ou",
        "colab_type": "code",
        "colab": {}
      },
      "source": [
        "i=0\n",
        "while i<len(frase):\n",
        "    print('c : ',frase[i])\n",
        "    i+=1 #i=i+1\n"
      ],
      "execution_count": 0,
      "outputs": []
    },
    {
      "cell_type": "markdown",
      "metadata": {
        "id": "oZo1Hq79pqNE",
        "colab_type": "text"
      },
      "source": [
        "**Exercícios**: Mostrar caracteres de 2 em 2 e logo de 3, 4, 5, etc."
      ]
    },
    {
      "cell_type": "markdown",
      "metadata": {
        "id": "mQ0cgm9jaHau",
        "colab_type": "text"
      },
      "source": [
        "### Métodos das Strings"
      ]
    },
    {
      "cell_type": "code",
      "metadata": {
        "id": "QNbogh6iaHaw",
        "colab_type": "code",
        "colab": {}
      },
      "source": [
        "# exemplo string-01\n",
        "# string para Maiúsculas\n",
        "maiusculas = frase.upper()\n",
        "print('Frase : ',maiusculas)"
      ],
      "execution_count": 0,
      "outputs": []
    },
    {
      "cell_type": "code",
      "metadata": {
        "id": "9tKgkzaHrFVY",
        "colab_type": "code",
        "colab": {}
      },
      "source": [
        "# exemplo string-02\n",
        "# string para Minúsculas\n",
        "minusculas = frase.lower()\n",
        "print('Frase : ',minusculas)"
      ],
      "execution_count": 0,
      "outputs": []
    },
    {
      "cell_type": "code",
      "metadata": {
        "id": "qYUPcvP0rFlR",
        "colab_type": "code",
        "colab": {}
      },
      "source": [
        "# exemplo string-03\n",
        "# Contar elementos de uma string\n",
        "num_chars = frase.count('i')\n",
        "print('Número : ',num_chars)"
      ],
      "execution_count": 0,
      "outputs": []
    },
    {
      "cell_type": "code",
      "metadata": {
        "id": "NsoYM-KHrF5n",
        "colab_type": "code",
        "colab": {}
      },
      "source": [
        "# exemplo string-04\n",
        "# reemplazar elementos de uma string\n",
        "nova_frase = frase.replace('i','x')\n",
        "print('Frase : ',frase)\n",
        "print('Nova frase : ',nova_frase)"
      ],
      "execution_count": 0,
      "outputs": []
    },
    {
      "cell_type": "markdown",
      "metadata": {
        "id": "Du4L-USYvFvD",
        "colab_type": "text"
      },
      "source": [
        "**Exercício**: Mostrar as posições dos caracteres *'i'* achados no exemplo string-03."
      ]
    },
    {
      "cell_type": "markdown",
      "metadata": {
        "id": "z8IIpqrBaHa5",
        "colab_type": "text"
      },
      "source": [
        "## **Listas**\n",
        "Uma **lista** é uma estrutura de dados composta por itens organizados de forma linear. Os elementos de uma lista podem ser acessados a partir de um índice que começa em zero.\n",
        "\n",
        "Uma lista pode ser denotada usando colchetes **[** e **]**"
      ]
    },
    {
      "cell_type": "code",
      "metadata": {
        "id": "zz6JrlDFaHa8",
        "colab_type": "code",
        "colab": {}
      },
      "source": [
        "# exemplo lista-01\n",
        "# criando listas\n",
        "nomes = ['Jorge','cida','José','Karla']\n",
        "numeros =[4.5, 6, 10, 8, 9]\n",
        "lista_vazia = []\n",
        "lista_mixta = [nomes, numeros, 'resto',9.5] \n",
        "print('Nomes: ',nomes)\n",
        "print('Números: ',numeros)\n",
        "print('Lista Vazia: ',lista_vazia)\n",
        "print('Lista Mixta: ',lista_mixta)"
      ],
      "execution_count": 0,
      "outputs": []
    },
    {
      "cell_type": "markdown",
      "metadata": {
        "id": "9HUT6jfwaHbD",
        "colab_type": "text"
      },
      "source": [
        "### Seleccionar Elementos da Lista"
      ]
    },
    {
      "cell_type": "code",
      "metadata": {
        "id": "jNhCQKBTaHbG",
        "colab_type": "code",
        "colab": {}
      },
      "source": [
        "# exemplo lista-02\n",
        "# sublista\n",
        "nova_l = lista_mixta[1]\n",
        "print('SubLista: ',nova_l)\n",
        "nova_ll = lista_mixta[3]\n",
        "print('SubLista: ',nova_ll)"
      ],
      "execution_count": 0,
      "outputs": []
    },
    {
      "cell_type": "code",
      "metadata": {
        "id": "sluN2rbkaDXX",
        "colab_type": "code",
        "colab": {}
      },
      "source": [
        "# exemplo lista-03\n",
        "# fatia ou sublista\n",
        "sub_lista = lista_mixta[1:3] # elementos entre 1 e 2\n",
        "print('Sublista : ',sub_lista)"
      ],
      "execution_count": 0,
      "outputs": []
    },
    {
      "cell_type": "code",
      "metadata": {
        "id": "l-b7AFn9bHgu",
        "colab_type": "code",
        "outputId": "2e917ce0-7a11-4bb6-f2b0-76c527b34302",
        "colab": {
          "base_uri": "https://localhost:8080/",
          "height": 34
        }
      },
      "source": [
        "# exemplo lista-04\n",
        "# lista elementos depois de 0\n",
        "sub_lista0 = lista_mixta[1:]  \n",
        "print('Sublista0 : ',sub_lista0)"
      ],
      "execution_count": 0,
      "outputs": [
        {
          "output_type": "stream",
          "text": [
            "Sublista0 :  [[4.5, 6, 10, 8, 9], 'resto', 9.5]\n"
          ],
          "name": "stdout"
        }
      ]
    },
    {
      "cell_type": "code",
      "metadata": {
        "id": "As94Qg4_bHvI",
        "colab_type": "code",
        "colab": {}
      },
      "source": [
        "# exemplo lista-05\n",
        "# lista elementos até o índice 2\n",
        "sub_lista1 = lista_mixta[:3] \n",
        "print('Sublista1 : ',sub_lista1)"
      ],
      "execution_count": 0,
      "outputs": []
    },
    {
      "cell_type": "code",
      "metadata": {
        "id": "gifTP2fKdmlz",
        "colab_type": "code",
        "colab": {}
      },
      "source": [
        "# exemplo lista-06\n",
        "# copia a lista completa numa nova lista\n",
        "sub_lista2 = lista_mixta[:] \n",
        "print('Sublista2 : ',sub_lista2)"
      ],
      "execution_count": 0,
      "outputs": []
    },
    {
      "cell_type": "code",
      "metadata": {
        "id": "z96gkv7xjcGe",
        "colab_type": "code",
        "colab": {}
      },
      "source": [
        "# subslistas de uma lista\n",
        "lista1 = lista_mixta[1][0]\n",
        "print('Sublista_0 : ',lista1)"
      ],
      "execution_count": 0,
      "outputs": []
    },
    {
      "cell_type": "code",
      "metadata": {
        "id": "TP7jGpnyjc2e",
        "colab_type": "code",
        "colab": {}
      },
      "source": [
        "# subslistas de uma lista\n",
        "lista2 = lista_mixta[1][:2]\n",
        "print('Sublista_1 : ',lista2)"
      ],
      "execution_count": 0,
      "outputs": []
    },
    {
      "cell_type": "markdown",
      "metadata": {
        "id": "fRgL89RmeF1V",
        "colab_type": "text"
      },
      "source": [
        "**Exercício**: Elaborar uma lista com os nomes dos participantes e verificar os elementos da lista."
      ]
    },
    {
      "cell_type": "markdown",
      "metadata": {
        "id": "MxBlLpshaHbM",
        "colab_type": "text"
      },
      "source": [
        "### Operações com Listas"
      ]
    },
    {
      "cell_type": "code",
      "metadata": {
        "id": "gVR3saTtaHbP",
        "colab_type": "code",
        "outputId": "ff115c73-98ed-4656-8292-1c38040c0e1b",
        "colab": {
          "base_uri": "https://localhost:8080/",
          "height": 34
        }
      },
      "source": [
        "# exemplo lista-07\n",
        "lista = ['a','b',1, 2, 4.5, 10.0, 2+3j, True, 'Jorge']\n",
        "# soma de listas\n",
        "l_soma = lista + lista\n",
        "print('Soma : ',l_soma)"
      ],
      "execution_count": 0,
      "outputs": [
        {
          "output_type": "stream",
          "text": [
            "Soma :  ['a', 'b', 1, 2, 4.5, 10.0, (2+3j), True, 'Jorge', 'a', 'b', 1, 2, 4.5, 10.0, (2+3j), True, 'Jorge']\n"
          ],
          "name": "stdout"
        }
      ]
    },
    {
      "cell_type": "code",
      "metadata": {
        "id": "5e2TuT2xf8PQ",
        "colab_type": "code",
        "colab": {}
      },
      "source": [
        "# exemplo lista-08\n",
        "# produto de listas\n",
        "l_produto = lista * 2\n",
        "print('Produto : ',l_produto)"
      ],
      "execution_count": 0,
      "outputs": []
    },
    {
      "cell_type": "markdown",
      "metadata": {
        "id": "Tpkih8xwaHbY",
        "colab_type": "text"
      },
      "source": [
        "### Métodos das Listas"
      ]
    },
    {
      "cell_type": "code",
      "metadata": {
        "id": "tnTFegFmaHbb",
        "colab_type": "code",
        "colab": {}
      },
      "source": [
        "# exemplo lista-09\n",
        "# índice de um item\n",
        "l_indice = lista.index(2)\n",
        "print(l_indice)"
      ],
      "execution_count": 0,
      "outputs": []
    },
    {
      "cell_type": "code",
      "metadata": {
        "id": "OBh-OVBukuOu",
        "colab_type": "code",
        "colab": {}
      },
      "source": [
        "# exemplo lista-10\n",
        "# contar um item\n",
        "l_contar = lista.count(2)\n",
        "print(l_contar)"
      ],
      "execution_count": 0,
      "outputs": []
    },
    {
      "cell_type": "code",
      "metadata": {
        "id": "iKk9sIsslOz8",
        "colab_type": "code",
        "outputId": "271532e5-8eb2-42fe-983a-eb34294eaca7",
        "colab": {
          "base_uri": "https://localhost:8080/",
          "height": 34
        }
      },
      "source": [
        "# exemplo lista-11\n",
        "# adicionar um item\n",
        "lista.append('carro novo!!!')\n",
        "print('Lista : ',lista)"
      ],
      "execution_count": 0,
      "outputs": [
        {
          "output_type": "stream",
          "text": [
            "Lista :  ['a', 'b', 1, 2, 4.5, 10.0, (2+3j), True, 'Jorge', 'carro novo!!!', 'carro novo!!!']\n"
          ],
          "name": "stdout"
        }
      ]
    },
    {
      "cell_type": "code",
      "metadata": {
        "id": "HUx3Jjc_mUDy",
        "colab_type": "code",
        "colab": {}
      },
      "source": [
        "# exemplo lista-12\n",
        "# remover um item\n",
        "lista.remove(1)\n",
        "print('Lista : ',lista)"
      ],
      "execution_count": 0,
      "outputs": []
    },
    {
      "cell_type": "code",
      "metadata": {
        "id": "IX-_9RL9mUYK",
        "colab_type": "code",
        "colab": {}
      },
      "source": [
        "# exemplo lista-13\n",
        "# remover o ultimo elemento da lista\n",
        "L = [0, 1, 2, 3]\n",
        "l_pop = L.pop(1)\n",
        "print('Pop : ',l_pop)"
      ],
      "execution_count": 0,
      "outputs": []
    },
    {
      "cell_type": "code",
      "metadata": {
        "id": "u6OQ9Y6MpFnw",
        "colab_type": "code",
        "colab": {}
      },
      "source": [
        "# exemplo lista-14\n",
        "# insertar elementos na lista: insert(indice,elemento)\n",
        "L1 = [0, 1, 2, 3, 'a']\n",
        "L1.insert(1,'b')\n",
        "print(L1)"
      ],
      "execution_count": 0,
      "outputs": []
    },
    {
      "cell_type": "code",
      "metadata": {
        "id": "UY8l2gQEl3dZ",
        "colab_type": "code",
        "colab": {}
      },
      "source": [
        "# exemplo lista-15\n",
        "# ordenar elementos de uma lista\n",
        "lo = [0, 10, 3, 5, 2, 7]\n",
        "lo.sort()\n",
        "print(lo)"
      ],
      "execution_count": 0,
      "outputs": []
    },
    {
      "cell_type": "code",
      "metadata": {
        "id": "82lWKJM-mk9C",
        "colab_type": "code",
        "colab": {}
      },
      "source": [
        "# exemplo lista-16\n",
        "# ordenar elementos de uma lista\n",
        "lor = ['u','i','a','e','o']\n",
        "lor.sort()\n",
        "print(lor)"
      ],
      "execution_count": 0,
      "outputs": []
    }
  ]
}