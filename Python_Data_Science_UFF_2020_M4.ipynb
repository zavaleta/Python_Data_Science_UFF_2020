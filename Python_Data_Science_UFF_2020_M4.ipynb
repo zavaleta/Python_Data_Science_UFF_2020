{
 "cells": [
  {
   "cell_type": "markdown",
   "metadata": {
    "colab_type": "text",
    "id": "9w8sR5tX6QHA"
   },
   "source": [
    "# Python para Data Science\n",
    "## PGEB UFF 2020\n",
    "### Prof. Dr. Jorge Zavaleta\n",
    "#### zavaleta.jorge@gmail.com\n",
    "##### Niterói, 17 ao 20 fevreiro, 2020"
   ]
  },
  {
   "cell_type": "markdown",
   "metadata": {
    "colab_type": "text",
    "id": "c3k-CaB96pFT"
   },
   "source": [
    "---"
   ]
  },
  {
   "cell_type": "markdown",
   "metadata": {
    "colab_type": "text",
    "id": "5UKkd2j86Wiv"
   },
   "source": [
    "# Módulo 04 - Visualização Gráfica"
   ]
  },
  {
   "cell_type": "markdown",
   "metadata": {
    "colab": {},
    "colab_type": "code",
    "id": "vudpTQ_m6MoH"
   },
   "source": [
    "## Matplolib\n",
    "A biblioteca gráfica **Matplotlib** tem a capacidade de trabalhar bem com muitos sistemas operacionais e back-end gráficos. A biblioteca suporta dezenas de back-end e tipos de saída, independentemente do sistema operacional usado ou do formato de saída desejado."
   ]
  },
  {
   "cell_type": "markdown",
   "metadata": {
    "colab": {},
    "colab_type": "code",
    "id": "IAmJvmgc90pO"
   },
   "source": [
    "### Importando a biblioteca"
   ]
  },
  {
   "cell_type": "code",
   "execution_count": null,
   "metadata": {},
   "outputs": [],
   "source": [
    "import numpy as np\n",
    "import pandas as pd\n",
    "import matplotlib as mpl # usada ocasionalmente\n",
    "import matplotlib.pyplot as plt # usada com maior frequencia"
   ]
  },
  {
   "cell_type": "code",
   "execution_count": null,
   "metadata": {},
   "outputs": [],
   "source": [
    "# matplotlib-exemplo-01\n",
    "# mudar de estilos\n",
    "plt.style.use('classic')"
   ]
  },
  {
   "cell_type": "code",
   "execution_count": null,
   "metadata": {},
   "outputs": [],
   "source": [
    "# matplotlib-exemplo-02\n",
    "# Plotando\n",
    "x = np.linspace(0, 10, 100)\n",
    "y0 = np.sin(x)\n",
    "y1 = np.cos(x)\n",
    "plt.plot(x, y0)\n",
    "plt.plot(x, y1)\n",
    "plt.show()"
   ]
  },
  {
   "cell_type": "code",
   "execution_count": null,
   "metadata": {},
   "outputs": [],
   "source": [
    "# matplotlib-exemplo-03\n",
    "# Uso interativo da biblioteca\n",
    "%matplotlib"
   ]
  },
  {
   "cell_type": "code",
   "execution_count": null,
   "metadata": {},
   "outputs": [],
   "source": [
    "# matplotlib-exemplo-04\n",
    "# grafica numa figura independente\n",
    "y2 = np.cos(x+1)\n",
    "plt.plot(x, y2)\n",
    "plt.draw()"
   ]
  },
  {
   "cell_type": "markdown",
   "metadata": {},
   "source": [
    "### Graficando a partir de um Notebook\n",
    "* **%matplotlib** usa gráficos interativos incorporados no notebook\n",
    "* **%matplotlib inline** usa imagens estáticas incorporadas ao notebook"
   ]
  },
  {
   "cell_type": "code",
   "execution_count": null,
   "metadata": {},
   "outputs": [],
   "source": [
    "# matplotlib-exemplo-05\n",
    "# Uso interativo\n",
    "%matplotlib inline\n",
    "#\n",
    "fig = plt.figure() # figura\n",
    "plt.plot(x, np.sin(x), '-')\n",
    "plt.plot(x, np.cos(x), '--'); # ; = show()"
   ]
  },
  {
   "cell_type": "code",
   "execution_count": null,
   "metadata": {},
   "outputs": [],
   "source": [
    "# matplotlib-exemplo-06\n",
    "# gravando a figura em arquivo independente:png?\n",
    "fig.savefig('images/senocoseno.png')"
   ]
  },
  {
   "cell_type": "code",
   "execution_count": null,
   "metadata": {},
   "outputs": [],
   "source": [
    "# matplotlib-exemplo-07\n",
    "# importar uma figura para o notebook\n",
    "from IPython.display import Image\n",
    "Image('images/senocoseno.png')"
   ]
  },
  {
   "cell_type": "code",
   "execution_count": null,
   "metadata": {},
   "outputs": [],
   "source": [
    "# matplotlib-exemplo-08\n",
    "# formatos de figuras suportados\n",
    "fig.canvas.get_supported_filetypes()"
   ]
  },
  {
   "cell_type": "markdown",
   "metadata": {},
   "source": [
    "### Varias Intefaces - subplots"
   ]
  },
  {
   "cell_type": "code",
   "execution_count": null,
   "metadata": {},
   "outputs": [],
   "source": [
    "# matplotlib-exemplo-09\n",
    "# exemplo de subplots\n",
    "plt.figure() # criar a figura\n",
    "# criando a painel 1\n",
    "plt.subplot(2, 1, 1) # (linha, coluna, numero do panel)\n",
    "plt.plot(x, np.sin(x),'--r')\n",
    "# criando o painel 2\n",
    "plt.subplot(2, 1, 2)\n",
    "plt.plot(x, np.cos(x));\n",
    "# criando o painel 3\n",
    "#plt.subplot(3, 1, 3)\n",
    "#plt.plot(x, np.cos(2*x),'-.g')"
   ]
  },
  {
   "cell_type": "code",
   "execution_count": null,
   "metadata": {},
   "outputs": [],
   "source": [
    "# matplotlib-exemplo-10\n",
    "# grid de subplots\n",
    "# First create a grid of plots\n",
    "fig, ax = plt.subplots(2)\n",
    "ax[0].plot(x, np.sin(x),'--r')\n",
    "ax[1].plot(x, np.cos(x));"
   ]
  },
  {
   "cell_type": "code",
   "execution_count": null,
   "metadata": {},
   "outputs": [],
   "source": [
    "# matplotlib-exemplo-11\n",
    "# subplot vertical\n",
    "fig, (ax1, ax2) = plt.subplots(1, 2)\n",
    "fig.suptitle('Subplot Vertical')\n",
    "ax1.plot(x, y0,'--r')\n",
    "ax2.plot(x, y1);"
   ]
  },
  {
   "cell_type": "code",
   "execution_count": null,
   "metadata": {},
   "outputs": [],
   "source": [
    "# matplotlib-exemplo-12\n",
    "# grid de subplots\n",
    "fig,ax =  plt.subplots(2,2,figsize=(8,8))\n",
    "ax[0][0].plot(x,y0,'r')\n",
    "ax[0][0].set_title('Seno')\n",
    "ax[0][1].plot(x,y1,'g')\n",
    "ax[0][1].set_title('Coseno')\n",
    "ax[1][0].plot(x,x*x,'orange')\n",
    "ax[1][0].set_title('Quadrado')\n",
    "ax[1][1].plot(x,np.power(3,x))\n",
    "ax[1][1].set_title('log')\n",
    "plt.suptitle('Quatro Subplots', verticalalignment='bottom', fontsize=14)    \n",
    "plt.show();"
   ]
  },
  {
   "cell_type": "markdown",
   "metadata": {},
   "source": [
    "### Graficar linhas Simples"
   ]
  },
  {
   "cell_type": "code",
   "execution_count": null,
   "metadata": {},
   "outputs": [],
   "source": [
    "# matplotlib-exemplo-13\n",
    "# grid de linhas\n",
    "plt.style.use('seaborn-whitegrid')\n",
    "fig = plt.figure()\n",
    "ax = plt.axes()"
   ]
  },
  {
   "cell_type": "code",
   "execution_count": null,
   "metadata": {},
   "outputs": [],
   "source": [
    "# matplotlib-exemplo-14\n",
    "# graficando no grid\n",
    "fig = plt.figure()\n",
    "ax = plt.axes()\n",
    "ax.plot(x, np.sin(x),'--r');"
   ]
  },
  {
   "cell_type": "code",
   "execution_count": null,
   "metadata": {},
   "outputs": [],
   "source": [
    "# matplotlib-exemplo-15\n",
    "# graficos no grid\n",
    "plt.plot(x, np.sin(x),'--g')\n",
    "plt.plot(x, np.cos(x));"
   ]
  },
  {
   "cell_type": "markdown",
   "metadata": {},
   "source": [
    "### Linhas de Cor e Estilos de Linha"
   ]
  },
  {
   "cell_type": "code",
   "execution_count": null,
   "metadata": {},
   "outputs": [],
   "source": [
    "# matplotlib-exemplo-16\n",
    "# cores das linhas\n",
    "plt.plot(x, np.sin(x - 0), color='blue',label='azul') # especificar cor pelo nome\n",
    "plt.plot(x, np.sin(x - 1), color='g') # codigo da cor (rgbcmyk)\n",
    "plt.plot(x, np.sin(x - 2), color='0.75') # escala de cinza entre 0 e 1\n",
    "plt.plot(x, np.sin(x - 3), color='#FFDD44') # codigo hexadecimal (RRGGBB de 00 a FF)\n",
    "plt.plot(x, np.sin(x - 4), color=(1.0,0.2,0.3)) # Tupla RGB, valores 0 e 1\n",
    "plt.plot(x, np.sin(x - 5), color='chartreuse') # cores suportadas pelo HTML\n",
    "plt.legend();"
   ]
  },
  {
   "cell_type": "code",
   "execution_count": null,
   "metadata": {},
   "outputs": [],
   "source": [
    "# matplotlib-exemplo-17\n",
    "# Estilos de linhas\n",
    "plt.plot(x, x + 0, linestyle='solid')\n",
    "plt.plot(x, x + 1, linestyle='dashed')\n",
    "plt.plot(x, x + 2, linestyle='dashdot')\n",
    "plt.plot(x, x + 3, linestyle='dotted');\n",
    "# Pode ser usado os seguintes codigos\n",
    "plt.plot(x, x + 4, linestyle='-') # linha\n",
    "plt.plot(x, x + 5, linestyle='--') # linhalinha\n",
    "plt.plot(x, x + 6, linestyle='-.') # linhaponto\n",
    "plt.plot(x, x + 7, linestyle=':'); # dospontos"
   ]
  },
  {
   "cell_type": "markdown",
   "metadata": {},
   "source": [
    "## Ajustando os Limites dos Eixos"
   ]
  },
  {
   "cell_type": "code",
   "execution_count": null,
   "metadata": {},
   "outputs": [],
   "source": [
    "# matplotlib-exemplo-18\n",
    "# ajustando os limites dos eixos\n",
    "plt.plot(x, np.sin(x))\n",
    "plt.xlim(-1, 11)\n",
    "plt.ylim(-1.5, 1.5);"
   ]
  },
  {
   "cell_type": "code",
   "execution_count": null,
   "metadata": {},
   "outputs": [],
   "source": [
    "# matplotlib-exemplo-19\n",
    "# ajustando os eixos de forma inversa\n",
    "plt.plot(x, np.sin(x),'--r')\n",
    "plt.xlim(10, 0)\n",
    "plt.ylim(1.2, -1.2);"
   ]
  },
  {
   "cell_type": "markdown",
   "metadata": {},
   "source": [
    "### Rotulando os Gráficos"
   ]
  },
  {
   "cell_type": "code",
   "execution_count": null,
   "metadata": {},
   "outputs": [],
   "source": [
    "# matplotlib-exemplo-20\n",
    "# rotulando os gráficos\n",
    "plt.plot(x, np.sin(x))\n",
    "plt.title(\"curva seno\")\n",
    "plt.xlabel(\"$x$\")\n",
    "plt.ylabel(\"$sin(x)$\");"
   ]
  },
  {
   "cell_type": "code",
   "execution_count": null,
   "metadata": {},
   "outputs": [],
   "source": [
    "# matplotlib-exemplo-21\n",
    "# rotulando usando legend()\n",
    "plt.plot(x, np.sin(x), '-g', label='sin(x)')\n",
    "plt.plot(x, np.cos(x), ':b', label='cos(x)')\n",
    "#plt.axis('equal')\n",
    "plt.legend();"
   ]
  },
  {
   "cell_type": "markdown",
   "metadata": {},
   "source": [
    "### Graficando Valores Discretos"
   ]
  },
  {
   "cell_type": "code",
   "execution_count": null,
   "metadata": {},
   "outputs": [],
   "source": [
    "# matplotlib-exemplo-22\n",
    "# graficando valores discretos (scatter)\n",
    "%matplotlib inline\n",
    "plt.style.use('seaborn-whitegrid')\n",
    "val_x = np.linspace(0, 10, 30)\n",
    "val_y = np.sin(2*val_x)\n",
    "plt.plot(val_x, val_y, 'o', color='red');\n",
    "#plt.xlim(-1, 11)\n",
    "#plt.ylim(-1.5, 1.5);"
   ]
  },
  {
   "cell_type": "code",
   "execution_count": null,
   "metadata": {},
   "outputs": [],
   "source": [
    "# matplotlib-exemplo-23\n",
    "# plotando elementos discretos\n",
    "rng = np.random.RandomState(0)\n",
    "#fig = plt.figure(figsize=(5,3))\n",
    "plt.figure(figsize=(5,3))\n",
    "for marker in ['o', '.', ',', 'x', '+', 'v', '^', '<', '>', 's', 'd']:\n",
    "    plt.plot(rng.rand(5), rng.rand(5), marker,label=\"marker='{0}'\".format(marker))\n",
    "plt.legend(numpoints=1)\n",
    "plt.xlim(-0.1, 1.8)\n",
    "plt.ylim(-0.5, 1.1);\n",
    "#fig.savefig('images/discreto.png')"
   ]
  },
  {
   "cell_type": "code",
   "execution_count": null,
   "metadata": {},
   "outputs": [],
   "source": [
    "# matplotlib-exemplo-24\n",
    "# graficando valores discretos\n",
    "plt.plot(val_x, val_y, '-.og');"
   ]
  },
  {
   "cell_type": "markdown",
   "metadata": {},
   "source": [
    "### Graficando Valores Discretos usando plt.scatter"
   ]
  },
  {
   "cell_type": "code",
   "execution_count": null,
   "metadata": {},
   "outputs": [],
   "source": [
    "# matplotlib-exemplo-25\n",
    "# usando plt.scatter\n",
    "plt.scatter(val_x, val_y, marker='o');"
   ]
  },
  {
   "cell_type": "code",
   "execution_count": null,
   "metadata": {},
   "outputs": [],
   "source": [
    "# matplotlib-exemplo-26\n",
    "# graficabdo valores discretos usando plt.scatter\n",
    "rng = np.random.RandomState(0)\n",
    "x0 = rng.randn(100)\n",
    "y0 = rng.randn(100)\n",
    "colors = rng.rand(100)\n",
    "sizes = 1000 * rng.rand(100)\n",
    "plt.scatter(x0, y0, c=colors, s=sizes, alpha=0.3,cmap='viridis')\n",
    "plt.colorbar(); # show color scale"
   ]
  },
  {
   "cell_type": "code",
   "execution_count": null,
   "metadata": {},
   "outputs": [],
   "source": [
    "# matplotlib-exemplo-27\n",
    "# usando plt.scatter() no dataset IRIS\n",
    "from sklearn.datasets import load_iris\n",
    "iris = load_iris()\n",
    "features = iris.data.T\n",
    "#print(features)\n",
    "plt.scatter(features[0], features[1], alpha=0.2,s=100*features[3], c=iris.target, cmap='viridis')\n",
    "plt.xlabel(iris.feature_names[0])\n",
    "plt.ylabel(iris.feature_names[1]);"
   ]
  },
  {
   "cell_type": "markdown",
   "metadata": {},
   "source": [
    "### Visualizando Erros"
   ]
  },
  {
   "cell_type": "code",
   "execution_count": null,
   "metadata": {},
   "outputs": [],
   "source": [
    "# matplotlib-exemplo-28\n",
    "# graficando barras de erro\n",
    "%matplotlib inline\n",
    "xx = np.linspace(0, 10, 50)\n",
    "dy = 0.8\n",
    "yy = np.sin(xx) + dy * np.random.randn(50)\n",
    "plt.errorbar(xx, yy, yerr=dy, fmt='.b'); # barras de erro"
   ]
  },
  {
   "cell_type": "code",
   "execution_count": null,
   "metadata": {},
   "outputs": [],
   "source": [
    "# matplotlib-exemplo-29\n",
    "# graficando barras de erro\n",
    "plt.errorbar(xx, yy, yerr=dy, fmt='o', color='black', ecolor='red', elinewidth=3, capsize=0);"
   ]
  },
  {
   "cell_type": "markdown",
   "metadata": {},
   "source": [
    "### Visualização 3-D"
   ]
  },
  {
   "cell_type": "code",
   "execution_count": null,
   "metadata": {},
   "outputs": [],
   "source": [
    "# matplotlib-exemplo-30\n",
    "# define uma função\n",
    "def f(x, y):\n",
    "    return np.sin(x) ** 10 + np.cos(10 + y * x) * np.cos(x)"
   ]
  },
  {
   "cell_type": "code",
   "execution_count": null,
   "metadata": {},
   "outputs": [],
   "source": [
    "# matplotlib-exemplo-31\n",
    "# gerando os valores usando meshgrid\n",
    "x = np.linspace(0, 5, 50)\n",
    "y = np.linspace(0, 5, 40)\n",
    "X, Y = np.meshgrid(x, y) \n",
    "Z = f(X, Y)\n",
    "plt.contour(X, Y, Z, colors='blue'); #grafico 3-D"
   ]
  },
  {
   "cell_type": "code",
   "execution_count": null,
   "metadata": {},
   "outputs": [],
   "source": [
    "# matplotlib-exemplo-32\n",
    "# usando contornos\n",
    "plt.contour(X, Y, Z, 20, cmap='RdGy');"
   ]
  },
  {
   "cell_type": "code",
   "execution_count": null,
   "metadata": {},
   "outputs": [],
   "source": [
    "# matplotlib-exemplo-32\n",
    "# Graficando barra de cores\n",
    "plt.contourf(X, Y, Z, 20, cmap='RdGy')\n",
    "plt.colorbar();"
   ]
  },
  {
   "cell_type": "markdown",
   "metadata": {},
   "source": [
    "### Histogramas"
   ]
  },
  {
   "cell_type": "code",
   "execution_count": null,
   "metadata": {},
   "outputs": [],
   "source": [
    "# matplotlib-exemplo-33\n",
    "# graficando um histograma\n",
    "%matplotlib inline\n",
    "plt.style.use('seaborn-white')\n",
    "data = np.random.randn(900)\n",
    "plt.hist(data);"
   ]
  },
  {
   "cell_type": "code",
   "execution_count": null,
   "metadata": {},
   "outputs": [],
   "source": [
    "# matplotlib-exemplo-34\n",
    "# Histograma customizado\n",
    "plt.hist(data, bins=30, density=True, alpha=0.5,histtype='stepfilled', color='steelblue',edgecolor='none');"
   ]
  },
  {
   "cell_type": "code",
   "execution_count": null,
   "metadata": {},
   "outputs": [],
   "source": [
    "# matplotlib-exemplo-35\n",
    "# histogramas sobrepostos\n",
    "x1 = np.random.normal(0, 0.8, 1000)\n",
    "x2 = np.random.normal(-2, 1, 1000)\n",
    "x3 = np.random.normal(3, 2, 1000)\n",
    "kwargs = dict(histtype='stepfilled', alpha=0.8, density=True, bins=40)\n",
    "plt.hist(x1, **kwargs)\n",
    "plt.hist(x2, **kwargs)\n",
    "plt.hist(x3, **kwargs);"
   ]
  },
  {
   "cell_type": "markdown",
   "metadata": {},
   "source": [
    "### Customizando as Legendas"
   ]
  },
  {
   "cell_type": "code",
   "execution_count": null,
   "metadata": {},
   "outputs": [],
   "source": [
    "# matplotlib-exemplo-36\n",
    "# Personalizando as legendas\n",
    "%matplotlib inline\n",
    "plt.style.use('classic')\n",
    "x2 = np.linspace(0, 10, 1000)\n",
    "fig, ax2 = plt.subplots()\n",
    "ax2.plot(x2, np.sin(x2), '-b', label='Seno()')\n",
    "ax2.plot(x2, np.cos(2*x2), '--r', label='Coseno()')\n",
    "ax2.axis('equal')\n",
    "leg = ax2.legend();"
   ]
  },
  {
   "cell_type": "code",
   "execution_count": null,
   "metadata": {},
   "outputs": [],
   "source": [
    "# matplotlib-exemplo-37\n",
    "# mudando a legenda de posição e colunas =2\n",
    "ax2.legend(loc='upper left', frameon=False, ncol=2)\n",
    "fig"
   ]
  },
  {
   "cell_type": "code",
   "execution_count": null,
   "metadata": {},
   "outputs": [],
   "source": [
    "# matplotlib-exemplo-38\n",
    "#\n",
    "plt.style.use('seaborn-white')\n",
    "x3 = np.arange(10)\n",
    "y3 = (20, 35, 30, 35, 27, 40, 45, 41, 39, 30)\n",
    "plt.bar(x3,y3)\n",
    "plt.show() # Try commenting this an run\n",
    "plt.scatter(x3,y3) # scatter plot\n",
    "plt.show()"
   ]
  },
  {
   "cell_type": "code",
   "execution_count": null,
   "metadata": {},
   "outputs": [],
   "source": [
    "# matplotlib-exemplo-39\n",
    "# Graficando um dataset conhecido\n",
    "df = pd.read_csv('data/iris.csv')\n",
    "df.hist()# Histograma\n",
    "print('\\n')\n",
    "df.plot(); # grafico linear"
   ]
  },
  {
   "cell_type": "code",
   "execution_count": null,
   "metadata": {},
   "outputs": [],
   "source": [
    "# matplotlib-exemplo-40\n",
    "# Histogramas de cores\n",
    "pre = np.array([19, 6, 11, 9])\n",
    "post = np.array([15, 11, 9, 8])\n",
    "labels=['Pesquisa '+x for x in list('ABCD')]\n",
    "fig, ax = plt.subplots(figsize=(8, 3.5))\n",
    "width = 0.4 # largura da barra\n",
    "xlocs = np.arange(len(pre))\n",
    "ax.bar(xlocs-width, pre, width, color='green', label='Verde')\n",
    "ax.bar(xlocs, post, width, color='#1f10ed', label='Azul')\n",
    "# labels, grids, titulos e grvar a figura\n",
    "ax.set_xticks(ticks=range(len(pre)))\n",
    "ax.set_xticklabels(labels)\n",
    "ax.yaxis.grid(True)\n",
    "ax.legend(loc='best')\n",
    "ax.set_ylabel('Quantidade')\n",
    "fig.suptitle('Barras Simples')\n",
    "fig.tight_layout(pad=1)\n",
    "#fig.savefig('data/barra.png', dpi=125)"
   ]
  },
  {
   "cell_type": "code",
   "execution_count": null,
   "metadata": {},
   "outputs": [],
   "source": [
    "# matplotlib-exemplo-41\n",
    "# grafico de pizza\n",
    "datax = np.array([15,8,4])\n",
    "labels = ['Engenharia', 'Matemática', 'Física']\n",
    "explode = (0, 0.1, 0)\n",
    "colrs=['cyan', 'tan', 'wheat']\n",
    "# graficos\n",
    "fig, ax = plt.subplots(figsize=(8, 3.5))\n",
    "ax.pie(datax, explode=explode, labels=labels, autopct='%1.1f%%',startangle=270, colors=colrs)\n",
    "ax.axis('equal') # mantenha um circulo\n",
    "fig.suptitle(\"Pizza de Cursos\");\n",
    "#fig.savefig('data/pizza.png', dpi=125)"
   ]
  },
  {
   "cell_type": "code",
   "execution_count": null,
   "metadata": {},
   "outputs": [],
   "source": [
    "# matplotlib-exemplo-42\n",
    "# grafico de pizza usando opção 'shadow'\n",
    "xp = np.array([1,2,3,4,5,6,7,8,9,0])\n",
    "label = ['a','b','c','d','e','f','g','h','i','j']\n",
    "explode = [0.2, 0.1, 0.5, 0, 0, 0.3, 0.3, 0.2, 0.1,0]\n",
    "# grafico\n",
    "fig, axx = plt.subplots(figsize=(6, 6))\n",
    "axx.pie(xp, labels=label, explode = explode, shadow=True, autopct ='%2.2f%%')\n",
    "plt.title('Gráfico de Pizza')\n",
    "plt.show()\n",
    "#fig.savefig('data/pizzashadow.png', dpi=125)"
   ]
  },
  {
   "cell_type": "code",
   "execution_count": null,
   "metadata": {},
   "outputs": [],
   "source": [
    "# matplotlib-exemplo-43\n",
    "#  graficando coordenadas polares\n",
    "r = np.arange(0, 10.0, 0.1)\n",
    "theta = 2* np.pi * r\n",
    "plt.polar(theta, r, color ='r')\n",
    "plt.show()"
   ]
  },
  {
   "cell_type": "markdown",
   "metadata": {},
   "source": [
    "### Decorando os Gráficos com Textos, Setas e Anotações"
   ]
  },
  {
   "cell_type": "code",
   "execution_count": null,
   "metadata": {},
   "outputs": [],
   "source": [
    "# matplotlib-exemplo-44\n",
    "# decorando: texto, setas e anotações\n",
    "sx = np.arange(0, 2*np.pi, .01)\n",
    "sy = np.sin(sx)\n",
    "plt.plot(sx, sy, color = 'r')\n",
    "plt.text(0.1, -0.04, '$sin(0) = 0$')\n",
    "plt.text(1.5, 0.9, '$sin(90) = 1$')\n",
    "plt.text(2.0, 0, '$sin(180) = 0$')\n",
    "plt.text(4.5, -0.9, '$sin(270) = -1$')\n",
    "plt.text(6.0, 0.0, '$sin(360) = 1$')\n",
    "plt.annotate('$sin(theta)=0$', xy=(3, 0.1), xytext=(5, 0.7),\n",
    "arrowprops=dict(facecolor='green', shrink=0.05))\n",
    "plt.title('Insertando texto e anotações no Gráfico')\n",
    "plt.xlabel('$theta$')\n",
    "plt.ylabel('$sy = sin( theta)$')\n",
    "plt.show()"
   ]
  },
  {
   "cell_type": "code",
   "execution_count": null,
   "metadata": {},
   "outputs": [],
   "source": [
    "# matplotlib-exemplo-45\n",
    "# graficando contornos\n",
    "x3 = np.linspace(0,1,100)\n",
    "y3 = np.linspace(1,2,100)\n",
    "(X2,Y2) = np.meshgrid(x3,y3)\n",
    "z3 = np.sin(X2)-np.sin(Y2)\n",
    "# graficando os contornos\n",
    "fig = plt.figure()\n",
    "ax2 = fig.add_subplot(211)\n",
    "c2 = ax2.contour(x3,y3,z3)\n",
    "l2 = ax2.clabel(c2)\n",
    "lx2 = ax2.set_xlabel(\"valor x\")\n",
    "ly2 = ax2.set_ylabel(\"valor y\")\n",
    "# graficando o contorno\n",
    "ax3 = fig.add_subplot(212)\n",
    "#c3 = ax3.contourf(x3,y3,z3, cmap='viridis')\n",
    "c3 = ax3.contourf(x3,y3,z3)\n",
    "l3 = ax3.clabel(c3)\n",
    "lx3 = ax3.set_xlabel(\"x\")\n",
    "ly3 = ax3.set_ylabel(\"y\")\n",
    "plt.show()"
   ]
  },
  {
   "cell_type": "markdown",
   "metadata": {},
   "source": [
    "# Aplicações - Machine Learning"
   ]
  },
  {
   "cell_type": "markdown",
   "metadata": {},
   "source": [
    "## Aprendizado Supervisionado \n",
    "### Regresão Linear Simples"
   ]
  },
  {
   "cell_type": "code",
   "execution_count": null,
   "metadata": {},
   "outputs": [],
   "source": [
    "# ML-exemplo-01\n",
    "# Exemplo de Aprendizado de máquina\n",
    "#\n",
    "#import matplotlib.pyplot as plt\n",
    "#import numpy as np\n",
    "rng = np.random.RandomState(42)\n",
    "mx = 10 * rng.rand(50)\n",
    "my = 2 * mx - 1 + rng.randn(50)\n",
    "plt.scatter(mx, my)\n",
    "plt.title('Dados para Regressão Linear');"
   ]
  },
  {
   "cell_type": "code",
   "execution_count": null,
   "metadata": {},
   "outputs": [],
   "source": [
    "# ML-exemplo-02\n",
    "# escolher o modelo: LinearRegression\n",
    "from sklearn.linear_model import LinearRegression\n",
    "model = LinearRegression(fit_intercept=True)\n",
    "model"
   ]
  },
  {
   "cell_type": "code",
   "execution_count": null,
   "metadata": {},
   "outputs": [],
   "source": [
    "# ML-exemplo-03\n",
    "# Arrumando os dados\n",
    "X = mx[:, np.newaxis]\n",
    "X.shape"
   ]
  },
  {
   "cell_type": "code",
   "execution_count": null,
   "metadata": {},
   "outputs": [],
   "source": [
    "# ML-exemplo-04\n",
    "# Ajuste do modelo aos dados\n",
    "model.fit(X, my)"
   ]
  },
  {
   "cell_type": "code",
   "execution_count": null,
   "metadata": {},
   "outputs": [],
   "source": [
    "# ML-exemplo-05\n",
    "# veridicando as interseções\n",
    "model.coef_"
   ]
  },
  {
   "cell_type": "code",
   "execution_count": null,
   "metadata": {},
   "outputs": [],
   "source": [
    "# ML-exemplo-06\n",
    "# verifica as interseções\n",
    "model.intercept_"
   ]
  },
  {
   "cell_type": "code",
   "execution_count": null,
   "metadata": {},
   "outputs": [],
   "source": [
    "# ML-exemplo-07\n",
    "# Prognostico dos rotulos para os dados desconhecidos\n",
    "xfit = np.linspace(-1, 11)\n",
    "Xfit = xfit[:, np.newaxis]\n",
    "yfit = model.predict(Xfit)"
   ]
  },
  {
   "cell_type": "code",
   "execution_count": null,
   "metadata": {},
   "outputs": [],
   "source": [
    "# ML-exemplo-08\n",
    "# visualiza os dados\n",
    "plt.scatter(mx, my)\n",
    "plt.plot(xfit, yfit);"
   ]
  },
  {
   "cell_type": "markdown",
   "metadata": {},
   "source": [
    "## ML - IRIS"
   ]
  },
  {
   "cell_type": "code",
   "execution_count": null,
   "metadata": {},
   "outputs": [],
   "source": [
    "# ML-exemplo-09\n",
    "# dataset iris\n",
    "from sklearn.model_selection import train_test_split\n",
    "from sklearn.naive_bayes import GaussianNB\n",
    "from sklearn import datasets\n",
    "from sklearn.metrics import accuracy_score\n",
    "iris = datasets.load_iris()\n",
    "X_iris = iris.data[:, :2]\n",
    "y_iris = iris.target\n",
    "#\n",
    "Xtrain, Xtest, ytrain, ytest = train_test_split(X_iris, y_iris,random_state=1)\n",
    "# escolhe o modelo da clase\n",
    "model = GaussianNB() # modelo de instancia\n",
    "model.fit(Xtrain, ytrain) # 3. prognostico do modelo de dados\n",
    "y_model = model.predict(Xtest) # 4. previsão dos novos dados\n",
    "# acuracia\n",
    "ac = accuracy_score(ytest, y_model)\n",
    "print('Acurácia =',ac*100,'%')"
   ]
  },
  {
   "cell_type": "markdown",
   "metadata": {
    "colab_type": "text",
    "id": "_KQQC45m9zH5"
   },
   "source": [
    "------\n",
    "Jorge Zavaleta &copy; 2020. zavaleta.jorge@gmail.com"
   ]
  }
 ],
 "metadata": {
  "colab": {
   "authorship_tag": "ABX9TyMTc9xyCWa/8HuQenhSUJ02",
   "collapsed_sections": [],
   "name": "Python_Data_Science_UFF_2020_M4.ipynb",
   "provenance": []
  },
  "kernelspec": {
   "display_name": "Python 3",
   "language": "python",
   "name": "python3"
  },
  "language_info": {
   "codemirror_mode": {
    "name": "ipython",
    "version": 3
   },
   "file_extension": ".py",
   "mimetype": "text/x-python",
   "name": "python",
   "nbconvert_exporter": "python",
   "pygments_lexer": "ipython3",
   "version": "3.7.6"
  }
 },
 "nbformat": 4,
 "nbformat_minor": 1
}
