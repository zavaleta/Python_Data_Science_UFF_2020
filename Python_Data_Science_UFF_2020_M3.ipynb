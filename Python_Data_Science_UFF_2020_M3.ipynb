{
 "cells": [
  {
   "cell_type": "markdown",
   "metadata": {
    "colab_type": "text",
    "id": "sU34AICU51o5"
   },
   "source": [
    "# Python para Data Science\n",
    "## PGEB UFF 2020\n",
    "### Prof. Dr. Jorge Zavaleta\n",
    "#### zavaleta.jorge@gmail.com\n",
    "##### Niterói, 17 ao 20 fevreiro, 2020"
   ]
  },
  {
   "cell_type": "markdown",
   "metadata": {
    "colab_type": "text",
    "id": "6vkS9X3S6jYW"
   },
   "source": [
    "---"
   ]
  },
  {
   "cell_type": "markdown",
   "metadata": {
    "colab_type": "text",
    "id": "utzyz_i553D5"
   },
   "source": [
    "# Módulo 03 - Pandas\n",
    "\n",
    "A biblioteca **Pandas** do Python permite Visualizar Dados ou fazer Análise de Dados. O **Pandas** fornece uma implementação eficiente de *DataFrames*. Os DataFrames são matrizes essencialmente multidimensionais com rótulos de linha e coluna anexados e geralmente com métodos de tipos heterogêneos e/ou dados ausentes.\n",
    "\n",
    "Tipos de  Estrutura de Dados no Pandas:\n",
    "* Serie: **Vetor** unidimensional homogêneo.\n",
    "* DataFrame: **Tabela** (bidimensional) rotulada.\n",
    "* Panel: **Matriz** tridimensional."
   ]
  },
  {
   "cell_type": "code",
   "execution_count": null,
   "metadata": {
    "colab": {},
    "colab_type": "code",
    "id": "MzKO3EjN5wEw"
   },
   "outputs": [],
   "source": [
    "# pandas-exemplo-01\n",
    "# importar biblioteca numpy e pandas\n",
    "import numpy as np\n",
    "import pandas as pd\n",
    "pd.__version__"
   ]
  },
  {
   "cell_type": "markdown",
   "metadata": {
    "colab_type": "text",
    "id": "XnZd0g8yC1rr"
   },
   "source": [
    "## Pandas Series"
   ]
  },
  {
   "cell_type": "code",
   "execution_count": null,
   "metadata": {
    "colab": {},
    "colab_type": "code",
    "id": "MInoEKOP9xpF"
   },
   "outputs": [],
   "source": [
    "# pandas-exemplo-02\n",
    "# importando as bibliotecas***\n",
    "# import numpy as np\n",
    "# import pandas as pd\n",
    "dados = pd.Series([0.25, 0.5, 0.75, 1.0])\n",
    "dados"
   ]
  },
  {
   "cell_type": "code",
   "execution_count": null,
   "metadata": {
    "colab": {},
    "colab_type": "code",
    "id": "Hh9CIRRsBBqs"
   },
   "outputs": [],
   "source": [
    "# pandas-exemplo-03\n",
    "# mostra valores\n",
    "dados.values"
   ]
  },
  {
   "cell_type": "code",
   "execution_count": null,
   "metadata": {
    "colab": {},
    "colab_type": "code",
    "id": "eUdDwXirBB1P"
   },
   "outputs": [],
   "source": [
    "# pandas-exemplo-04\n",
    "# mostrando os indices\n",
    "dados.index"
   ]
  },
  {
   "cell_type": "markdown",
   "metadata": {
    "colab_type": "text",
    "id": "2NYZSjDAEBER"
   },
   "source": [
    "### Series como Array NumPy"
   ]
  },
  {
   "cell_type": "code",
   "execution_count": null,
   "metadata": {
    "colab": {},
    "colab_type": "code",
    "id": "5xHiwr_gBByQ"
   },
   "outputs": [],
   "source": [
    "# pandas-exemplo-05\n",
    "# dados de uma serie com indice\n",
    "data = pd.Series([0.25, 0.5, 0.75, 1.0, -1.0],\n",
    "                 index=['a', 'b', 'c', 'd','e'])\n",
    "data"
   ]
  },
  {
   "cell_type": "code",
   "execution_count": null,
   "metadata": {
    "colab": {},
    "colab_type": "code",
    "id": "uerEBAKdBBvp"
   },
   "outputs": [],
   "source": [
    "# pandas-exemplo-06\n",
    "# acessar dados da serie usando o indice\n",
    "data['c']"
   ]
  },
  {
   "cell_type": "code",
   "execution_count": null,
   "metadata": {
    "colab": {},
    "colab_type": "code",
    "id": "buP2v4WNBBn3"
   },
   "outputs": [],
   "source": [
    "# pandas-exemplo-07\n",
    "# serie com indice não-sequencial\n",
    "sn = pd.Series([0.25, 0.5, 0.75, 1.0],\n",
    "                  index=[2, 5, 3, 7])\n",
    "sn[5]"
   ]
  },
  {
   "cell_type": "markdown",
   "metadata": {
    "colab_type": "text",
    "id": "23POWRO308TX"
   },
   "source": [
    "### Series como Dicionários Especializados"
   ]
  },
  {
   "cell_type": "code",
   "execution_count": null,
   "metadata": {
    "colab": {},
    "colab_type": "code",
    "id": "vTlkCgj9BBmc"
   },
   "outputs": [],
   "source": [
    "# pandas-exemplo-08\n",
    "# serie com dicionario\n",
    "estados_dict = {'RJ': 'Rio de Janeiro','SP': 'São Paulo','POA': 'Porto Alegre',\n",
    "                   'SC': 'Santa Catarina','ES': 'Vitória'}\n",
    "estados_br = pd.Series(estados_dict)\n",
    "print(estados_br)"
   ]
  },
  {
   "cell_type": "code",
   "execution_count": null,
   "metadata": {
    "colab": {},
    "colab_type": "code",
    "id": "K9eLei0SBBkK"
   },
   "outputs": [],
   "source": [
    "# pandas-exemplo-09\n",
    "# acessar um elemento da serie usando um indice do dic\n",
    "estados_br['RJ']"
   ]
  },
  {
   "cell_type": "code",
   "execution_count": null,
   "metadata": {
    "colab": {},
    "colab_type": "code",
    "id": "W2Tc3TELBBfo"
   },
   "outputs": [],
   "source": [
    "# pandas-exemplo-10\n",
    "# acessar elementos com subindices do dicionario\n",
    "estados_br['RJ':'SC']"
   ]
  },
  {
   "cell_type": "code",
   "execution_count": null,
   "metadata": {
    "colab": {},
    "colab_type": "code",
    "id": "f2ZPVEFoBBao"
   },
   "outputs": [],
   "source": [
    "# pandas-exemplo-11\n",
    "# definir: pd.Series(data, index=index). Index = opcional\n",
    "s = pd.Series([0,2,4,6,8,10,12])\n",
    "print(s)"
   ]
  },
  {
   "cell_type": "code",
   "execution_count": null,
   "metadata": {
    "colab": {},
    "colab_type": "code",
    "id": "5H1rumEt4pZ0"
   },
   "outputs": [],
   "source": [
    "# pandas-exemplo-12\n",
    "# serie com indice modificado\n",
    "s1 = pd.Series([0,2,4,6,8,10,12],index=[100,110,120,130,140,150,160])\n",
    "print(s1)"
   ]
  },
  {
   "cell_type": "code",
   "execution_count": null,
   "metadata": {
    "colab": {},
    "colab_type": "code",
    "id": "XYCfWdAP4pht"
   },
   "outputs": [],
   "source": [
    "# pandas-exemplo-13\n",
    "# indices não-sequenciais\n",
    "s2 = pd.Series({2:'a', 1:'b', 3:'c'})\n",
    "print(s2)"
   ]
  },
  {
   "cell_type": "code",
   "execution_count": null,
   "metadata": {
    "colab": {},
    "colab_type": "code",
    "id": "elZvVve94pfE"
   },
   "outputs": [],
   "source": [
    "# pandas-exemplo-14\n",
    "# sub-indice de uma serie\n",
    "s3 = pd.Series({2:'a', 1:'b', 3:'c'}, index=[3, 2])\n",
    "print(s3)"
   ]
  },
  {
   "cell_type": "code",
   "execution_count": null,
   "metadata": {
    "colab": {},
    "colab_type": "code",
    "id": "gcZSmmGL4pWf"
   },
   "outputs": [],
   "source": [
    "# pandas-exemplo-15\n",
    "# criar serie aleatoria\n",
    "serie = pd.Series([np.random.randn(50)])\n",
    "print('serie : ',serie)"
   ]
  },
  {
   "cell_type": "code",
   "execution_count": null,
   "metadata": {},
   "outputs": [],
   "source": [
    "# pandas-exemplo-15.0\n",
    "# Média constante e gráfico\n",
    "import matplotlib.pyplot as plt # biblioteca para os gráficos\n",
    "np.random.seed(2)\n",
    "serie = [5] * 50 + np.random.randn(50) * 0.2 # serie de 50 valores\n",
    "# calcula a média até cada dia anterior\n",
    "media = [np.mean(serie[:x]) for x in range(len(serie))]\n",
    "plt.figure(figsize=(18,4))\n",
    "plt.plot(serie, label='Valor')\n",
    "plt.plot(media, label='Média')\n",
    "plt.xlabel('Valores da Série')\n",
    "plt.ylabel('Valor da Média')\n",
    "plt.title('Série com Média constante')\n",
    "plt.legend()\n",
    "plt.show()"
   ]
  },
  {
   "cell_type": "markdown",
   "metadata": {},
   "source": [
    "**Questão**: Porque acontece a mensagem do pandas-exemplo-15.0"
   ]
  },
  {
   "cell_type": "code",
   "execution_count": null,
   "metadata": {},
   "outputs": [],
   "source": [
    "# pandas-exemplo-15.1\n",
    "# leitura de dados de uma serie em formato csv\n",
    "data_air = pd.read_csv('data/AirPassengers.csv')\n",
    "print(data_air.head())"
   ]
  },
  {
   "cell_type": "code",
   "execution_count": null,
   "metadata": {},
   "outputs": [],
   "source": [
    "# pandas-exemplo-15.2\n",
    "# acessa uma coluna com o indece ='Month'\n",
    "mes = data_air['Month']\n",
    "print('Mês : \\n',mes)\n",
    "pas = data_air['#Passengers']\n",
    "print('Pasageiros :\\n ',pas)\n",
    "plt.plot(mes,pas)\n",
    ";"
   ]
  },
  {
   "cell_type": "markdown",
   "metadata": {
    "colab_type": "text",
    "id": "N0Df1zN9tS6K"
   },
   "source": [
    "### DataFrame"
   ]
  },
  {
   "cell_type": "code",
   "execution_count": null,
   "metadata": {
    "colab": {},
    "colab_type": "code",
    "id": "uIOZ9RyC4pTi"
   },
   "outputs": [],
   "source": [
    "# pandas-exemplo-16\n",
    "# dataFrame\n",
    "df = pd.DataFrame({'Idade': np.random.randint(20,high=60,size=100), \n",
    "                   'Altura':1+np.random.rand(100),'Peso':(np.random.rand(100))*10+50})\n",
    "df"
   ]
  },
  {
   "cell_type": "markdown",
   "metadata": {},
   "source": [
    "Podemos extrair varias informações diferentes de um **DataFrame**."
   ]
  },
  {
   "cell_type": "code",
   "execution_count": null,
   "metadata": {
    "colab": {},
    "colab_type": "code",
    "id": "AnH6JesI4pQP"
   },
   "outputs": [],
   "source": [
    "# pandas-exemplo-17\n",
    "# Mostrando o cabeçalho (head), mostra só 10 linhas\n",
    "df.head()"
   ]
  },
  {
   "cell_type": "code",
   "execution_count": null,
   "metadata": {
    "colab": {},
    "colab_type": "code",
    "id": "2xHK7Iij4pNw"
   },
   "outputs": [],
   "source": [
    "# pandas-exemplo-18\n",
    "# mostra as colunas do dataFrame\n",
    "df.columns"
   ]
  },
  {
   "cell_type": "code",
   "execution_count": null,
   "metadata": {
    "colab": {},
    "colab_type": "code",
    "id": "hsana6lr4pJp"
   },
   "outputs": [],
   "source": [
    "# pandas-exemplo-19\n",
    "# acessando uma coluna\n",
    "df['Idade']"
   ]
  },
  {
   "cell_type": "code",
   "execution_count": null,
   "metadata": {
    "colab": {},
    "colab_type": "code",
    "id": "86rlw66148vh"
   },
   "outputs": [],
   "source": [
    "# pandas-exemplo-20\n",
    "# Métrica sobre a serie/dataframe\n",
    "df.describe()"
   ]
  },
  {
   "cell_type": "markdown",
   "metadata": {},
   "source": [
    "O métodos **describe** mostra os percentis que são a divisão de uma amostra em percentuais. Por exemplo, na tabela anterior (pandas-exemplo-20) diz que:\n",
    "* 25% dos elementos são inferiores a 30.7 anos, a 1.26 m e 52.5 kg (pode variar por ser aleatório a geração)\n",
    "* 50% dos elementos são inferioes a 39.0 anos, a 1.53 m e 55.3 kg\n",
    "* 75%  dos elementos são inferiores a 49.0 anos, a 1.81 m e 57.2 kg\n"
   ]
  },
  {
   "cell_type": "code",
   "execution_count": null,
   "metadata": {
    "colab": {},
    "colab_type": "code",
    "id": "KXnxxc2gBBWj"
   },
   "outputs": [],
   "source": [
    "# pandas-exemplo-21\n",
    "# Mostrando os valores do DataFrame\n",
    "df.values"
   ]
  },
  {
   "cell_type": "code",
   "execution_count": null,
   "metadata": {
    "colab": {},
    "colab_type": "code",
    "id": "O6UpmpYD5h71"
   },
   "outputs": [],
   "source": [
    "# pandas-exemplo-22\n",
    "# Transpor uma dataFrame como se for uma matriz\n",
    "df.T"
   ]
  },
  {
   "cell_type": "code",
   "execution_count": null,
   "metadata": {
    "colab": {},
    "colab_type": "code",
    "id": "A7trF3dh5h57"
   },
   "outputs": [],
   "source": [
    "# pandas-exemplo-23\n",
    "# \"fatiar\" um dataframe\n",
    "serie1 = df['Idade']\n",
    "print(type(serie1))\n",
    "serie1.head()"
   ]
  },
  {
   "cell_type": "code",
   "execution_count": null,
   "metadata": {
    "colab": {},
    "colab_type": "code",
    "id": "666t0Xxh5h1z"
   },
   "outputs": [],
   "source": [
    "# pandas-exemplo-24\n",
    "# \"fatiar\" um dataframe selecionando linhas\n",
    "df[(df.Idade > 30) & (df.Idade <= 40)]"
   ]
  },
  {
   "cell_type": "markdown",
   "metadata": {},
   "source": [
    "### Combinação de Datasets"
   ]
  },
  {
   "cell_type": "code",
   "execution_count": null,
   "metadata": {},
   "outputs": [],
   "source": [
    "# pandas-exemplo-24\n",
    "# DataFrames sobre alunos do curso de PGEB\n",
    "df1 = pd.DataFrame({'aluno': ['Ana Luiza', 'Anderson', 'Breno', 'Vanessa'],'universidade': ['UFRRJ', 'UFF', 'UFF', 'UFRJ']})\n",
    "df2 = pd.DataFrame({'aluno': ['Breno', 'Ana Luiza', 'Anderson', 'Vanessa'],'ano_ingresso': [2016, 2017, 2018, 2020]})\n",
    "print(df1); print('\\n',df2)"
   ]
  },
  {
   "cell_type": "code",
   "execution_count": null,
   "metadata": {},
   "outputs": [],
   "source": [
    "# pandas-exemplo-25\n",
    "# combinda dois dataframes: MERGE() (one-to-one)\n",
    "df3 = pd.merge(df1,df2)\n",
    "df3.head()"
   ]
  },
  {
   "cell_type": "code",
   "execution_count": null,
   "metadata": {},
   "outputs": [],
   "source": [
    "# pandas-exemplo-26\n",
    "#  combina 2 DataFrmes de dimensões distintas: MERGE() (one-to-one)\n",
    "df4 = pd.DataFrame({'aluno': ['Breno', 'Ana Luiza', 'Anderson'],'ano_ingresso': [2016, 2017, 2018]})\n",
    "df5 = pd.merge(df2,df4)\n",
    "df5.head()"
   ]
  },
  {
   "cell_type": "markdown",
   "metadata": {},
   "source": [
    "A função **pd.merge()** reconhece que cada DataFrame possui uma coluna \"aluno\" e se junta automaticamente usando essa coluna como chave (key)"
   ]
  },
  {
   "cell_type": "code",
   "execution_count": null,
   "metadata": {},
   "outputs": [],
   "source": [
    "# pandas-exemplo-27\n",
    "# combinação muitos-para-um: many-to-one\n",
    "df6 = pd.DataFrame({'universidade': ['UFRRJ', 'UFF', 'UFF', 'UFRJ'],'orientador': ['Fabio', 'Helder', 'Gustavo','José']})\n",
    "print(df3); print('\\n',df6); print('\\n',pd.merge(df3, df6))"
   ]
  },
  {
   "cell_type": "markdown",
   "metadata": {},
   "source": [
    "As combinações (**Joins**) muitos-para-um (*many-to-one*) são *joins* nas quais uma das duas colunas principais contém **entradas duplicadas**. No caso de muitos-para-um, o DataFrame resultante preservará essas entradas duplicadas conforme seja o caso."
   ]
  },
  {
   "cell_type": "code",
   "execution_count": null,
   "metadata": {},
   "outputs": [],
   "source": [
    "# pandas-exemplo-28\n",
    "# combinação muitos-para-muitos\n",
    "df7 = pd.DataFrame({'universidade': ['UFRRJ', 'UFRRJ', 'UFF','UFF', 'UFRJ','UFRJ'],\n",
    "                    'disciplinas': ['matemática', 'programação', 'pesquisa', 'python', 'pesquisa','filosofia']})\n",
    "df8 = pd.merge(df1, df7)\n",
    "\n",
    "print('DF1: \\n',df1)\n",
    "print('DF7: \\n',df7)\n",
    "print('DF8: \\n',df8)"
   ]
  },
  {
   "cell_type": "markdown",
   "metadata": {},
   "source": [
    "### Especificação da chave para fazer a Combinação"
   ]
  },
  {
   "cell_type": "code",
   "execution_count": null,
   "metadata": {},
   "outputs": [],
   "source": [
    "# pandas-exemplo-29\n",
    "#  merge suando chave(key) = 'aluno'\n",
    "# a chave deve ser unica!!!\n",
    "print('df1 : \\n',df1)\n",
    "print('df2 : \\n',df2)\n",
    "df9 = pd.merge(df1, df2, on='aluno')\n",
    "print('df9 : \\n', df9)"
   ]
  },
  {
   "cell_type": "code",
   "execution_count": null,
   "metadata": {},
   "outputs": [],
   "source": [
    "# pandas-exemplo-30\n",
    "#  merge left_on e right_on\n",
    "df10 = pd.DataFrame({'nome': ['Ana Luiza', 'Anderson','Breno','Vanessa'],'salario': [7000, 8000, 12000, 9000]})\n",
    "print('df1 : \\n',df1)\n",
    "print('\\n')\n",
    "print('df10 : \\n',df10)\n",
    "df11 = pd.merge(df1, df10,left_on='aluno',right_on='nome')\n",
    "print('\\n')\n",
    "print('df11 : \\n', df11)"
   ]
  },
  {
   "cell_type": "code",
   "execution_count": null,
   "metadata": {},
   "outputs": [],
   "source": [
    "# pandas-exemplo-31\n",
    "# elimina uma coluna = axis=1\n",
    "df12 = pd.merge(df1, df10,left_on='aluno',right_on='nome').drop('nome',axis=1)\n",
    "print('df12 : \\n', df12)"
   ]
  },
  {
   "cell_type": "markdown",
   "metadata": {},
   "source": [
    "### Leitura de arquivos em Pandas"
   ]
  },
  {
   "cell_type": "code",
   "execution_count": null,
   "metadata": {
    "colab": {},
    "colab_type": "code",
    "id": "7fqBUqyw5hx7"
   },
   "outputs": [],
   "source": [
    "# pandas-exemplo-32\n",
    "#  carregar arquivos externos: CSV, JSON, XLS, etc.\n",
    "dataset = pd.read_csv(\"data/diabetes.csv\")\n",
    "dataset"
   ]
  },
  {
   "cell_type": "code",
   "execution_count": null,
   "metadata": {
    "colab": {},
    "colab_type": "code",
    "id": "ByhtyX-U5hvB"
   },
   "outputs": [],
   "source": [
    "# pandas-exemplo-33\n",
    "# métricas da diabetes\n",
    "dataset.describe()"
   ]
  },
  {
   "cell_type": "code",
   "execution_count": null,
   "metadata": {
    "colab": {},
    "colab_type": "code",
    "id": "alDkuw-v5hsW"
   },
   "outputs": [],
   "source": [
    "# pandas-exemplo-34\n",
    "# carregar arquivos externos: CSV, JSON, XLS, etc.\n",
    "data_temp = pd.read_csv(\"data/daily-min-temperatures.csv\")\n",
    "data_temp.head()"
   ]
  },
  {
   "cell_type": "code",
   "execution_count": null,
   "metadata": {
    "colab": {},
    "colab_type": "code",
    "id": "2FLiAbf55hoU"
   },
   "outputs": [],
   "source": [
    "# pandas-exemplo-35\n",
    "# metricas da temperature\n",
    "data_temp.describe()"
   ]
  },
  {
   "cell_type": "code",
   "execution_count": null,
   "metadata": {
    "colab": {},
    "colab_type": "code",
    "id": "Xv8lgRMe5w0r"
   },
   "outputs": [],
   "source": [
    "# pandas-exemplo-36\n",
    "# carregar arquivos externos: CSV, JSON, XLS, etc.\n",
    "data_ex = pd.read_csv(\"data/example_data.csv\", delimiter=';')\n",
    "data_ex.head()"
   ]
  },
  {
   "cell_type": "code",
   "execution_count": null,
   "metadata": {
    "colab": {},
    "colab_type": "code",
    "id": "HPkVFi2y51N3"
   },
   "outputs": [],
   "source": [
    "# pandas-exemplo-37\n",
    "# carregar arquivos externos: CSV, JSON, XLS, etc.\n",
    "data_cod = pd.read_csv(\"data/IRIS.txt\", delimiter=';')\n",
    "data_cod.head()"
   ]
  },
  {
   "cell_type": "code",
   "execution_count": null,
   "metadata": {
    "colab": {},
    "colab_type": "code",
    "id": "zWyMLO1d5w7r"
   },
   "outputs": [],
   "source": [
    "# pandas-exemplo-38\n",
    "# leitura de dados em Excel\n",
    "data_excel = pd.read_excel(\"data/iris.xlsx\")\n",
    "data_excel.head()"
   ]
  },
  {
   "cell_type": "code",
   "execution_count": null,
   "metadata": {},
   "outputs": [],
   "source": [
    "# pandas-exemplo-39\n",
    "# Métricas dos dados em excel\n",
    "data_excel.describe()"
   ]
  },
  {
   "cell_type": "code",
   "execution_count": null,
   "metadata": {},
   "outputs": [],
   "source": [
    "# pandas-exemplo-40\n",
    "# index: loc - localiza a linha = 1 \n",
    "data_excel.loc[1]"
   ]
  },
  {
   "cell_type": "code",
   "execution_count": null,
   "metadata": {},
   "outputs": [],
   "source": [
    "# pandas-exemplo-41\n",
    "# loc[1:4] - localiza as linhas 1 a 4\n",
    "data_excel.loc[1:4]"
   ]
  },
  {
   "cell_type": "code",
   "execution_count": null,
   "metadata": {},
   "outputs": [],
   "source": [
    "# pandas-exemplo-42\n",
    "# index: iloc\n",
    "data_excel.iloc[1]"
   ]
  },
  {
   "cell_type": "code",
   "execution_count": null,
   "metadata": {},
   "outputs": [],
   "source": [
    "# pandas-exemplo-43\n",
    "# index: iloc[1:4]- mostra linhas 1 até 3\n",
    "data_excel.iloc[1:4]"
   ]
  },
  {
   "cell_type": "code",
   "execution_count": null,
   "metadata": {},
   "outputs": [],
   "source": [
    "# pandas-exemplo-44\n",
    "# dados como matriz bidimensional\n",
    "data_excel.values"
   ]
  },
  {
   "cell_type": "code",
   "execution_count": null,
   "metadata": {},
   "outputs": [],
   "source": [
    "# pandas-exemplo-45\n",
    "# Transposta da matriz\n",
    "data_excel.T"
   ]
  },
  {
   "cell_type": "code",
   "execution_count": null,
   "metadata": {},
   "outputs": [],
   "source": [
    "# pandas-exemplo-46\n",
    "# valores 0: primeira linha\n",
    "data_excel.values[0]"
   ]
  },
  {
   "cell_type": "code",
   "execution_count": null,
   "metadata": {},
   "outputs": [],
   "source": [
    "# pandas-exemplo-47\n",
    "# fatia até a linha 3 e até a coluna 2\n",
    "data_excel.iloc[:3,:2]"
   ]
  },
  {
   "cell_type": "markdown",
   "metadata": {},
   "source": [
    "### Exemplo"
   ]
  },
  {
   "cell_type": "code",
   "execution_count": null,
   "metadata": {},
   "outputs": [],
   "source": [
    "# pandas-exemplo-48\n",
    "# Leitura de arquivos csv\n",
    "pop = pd.read_csv('data/state-population.csv')\n",
    "areas = pd.read_csv('data/state-areas.csv')\n",
    "uf = pd.read_csv('data/state-abbrevs.csv')\n",
    "print('População: \\n',pop.head())\n",
    "print('\\n')\n",
    "print(areas.head())\n",
    "print('\\n')\n",
    "print(uf.head())"
   ]
  },
  {
   "cell_type": "code",
   "execution_count": null,
   "metadata": {},
   "outputs": [],
   "source": [
    "# pandas-exemplo-49\n",
    "# Combinando arquivos\n",
    "mistura = pd.merge(pop, uf, how='outer',left_on='state/region', right_on='abbreviation')\n",
    "print(mistura) \n",
    "# eliminando colunas\n",
    "ndf = mistura.drop('abbreviation', 1) # eliminando informação duplicada\n",
    "ndf.head()"
   ]
  },
  {
   "cell_type": "markdown",
   "metadata": {},
   "source": [
    "### NaN: Dados Númericos Ausentes"
   ]
  },
  {
   "cell_type": "code",
   "execution_count": null,
   "metadata": {},
   "outputs": [],
   "source": [
    "# pandas-exemplo-50\n",
    "# vetor com falta de valores\n",
    "valores = np.array([-1, 0, 1, 2, np.nan, 4, 5])\n",
    "valores.dtype"
   ]
  },
  {
   "cell_type": "code",
   "execution_count": null,
   "metadata": {},
   "outputs": [],
   "source": [
    "# pandas-exemplo-51\n",
    "# soma de NaN\n",
    "print('s: ',1 + np.nan)\n",
    "print('p: ',0*np.nan)"
   ]
  },
  {
   "cell_type": "code",
   "execution_count": null,
   "metadata": {},
   "outputs": [],
   "source": [
    "# pandas-exemplo-52\n",
    "# operações basicas (agregadores) sempre são nulas\n",
    "valores.sum() # min(), max()"
   ]
  },
  {
   "cell_type": "code",
   "execution_count": null,
   "metadata": {},
   "outputs": [],
   "source": [
    "# pandas-exemplo-53\n",
    "# soma de NaN\n",
    "ss = np.nansum(valores)\n",
    "ss"
   ]
  },
  {
   "cell_type": "code",
   "execution_count": null,
   "metadata": {},
   "outputs": [],
   "source": [
    "# pandas-exemplo-54\n",
    "# NaN e None\n",
    "serie_p = pd.Series([4, np.nan, 2, 3, None])\n",
    "serie_p.head()"
   ]
  },
  {
   "cell_type": "code",
   "execution_count": null,
   "metadata": {},
   "outputs": [],
   "source": [
    "# pandas-exemplo-55\n",
    "# usando while para NaN\n",
    "index = 0\n",
    "while index < len(serie_p): \n",
    "    print(index, serie_p[index])\n",
    "    index += 1"
   ]
  },
  {
   "cell_type": "code",
   "execution_count": null,
   "metadata": {},
   "outputs": [],
   "source": [
    "# pandas-exemplo-56\n",
    "# detectanado valores nulos (true)\n",
    "serie_p.isnull()"
   ]
  },
  {
   "cell_type": "code",
   "execution_count": null,
   "metadata": {},
   "outputs": [],
   "source": [
    "# pandas-exemplo-57\n",
    "#\n",
    "serie0 = serie_p[serie_p.notnull()]\n",
    "serie0"
   ]
  },
  {
   "cell_type": "code",
   "execution_count": null,
   "metadata": {},
   "outputs": [],
   "source": [
    "# pandas-exemplo-58\n",
    "# dropna() descartará todas as linhas nas quais qualquer valor nulo estiver presente\n",
    "nserie = serie_p.dropna()\n",
    "nserie"
   ]
  },
  {
   "cell_type": "code",
   "execution_count": null,
   "metadata": {},
   "outputs": [],
   "source": [
    "# pandas-exemplo-59\n",
    "# mudando valores nulos\n",
    "serie_teste = pd.DataFrame([[1, np.nan, 2],[2, 3, 5],[np.nan, 4, 6]])\n",
    "print(serie_teste)\n",
    "nova_serie = serie_teste.dropna(axis='columns')\n",
    "print(nova_serie)\n",
    "# fill com 0=NaN\n",
    "serie_teste0 = serie_teste.fillna(0)\n",
    "print(serie_teste0)"
   ]
  },
  {
   "cell_type": "markdown",
   "metadata": {
    "colab_type": "text",
    "id": "d1WJEKLB9vbc"
   },
   "source": [
    "------\n",
    "Jorge Zavaleta &copy; 2020. zavaleta.jorge@gmail.com"
   ]
  }
 ],
 "metadata": {
  "colab": {
   "authorship_tag": "ABX9TyM2g7jZDJeaeD9kJu09PWec",
   "collapsed_sections": [],
   "name": "Python_Data_Science_UFF_2020_M3.ipynb",
   "provenance": []
  },
  "kernelspec": {
   "display_name": "Python 3",
   "language": "python",
   "name": "python3"
  },
  "language_info": {
   "codemirror_mode": {
    "name": "ipython",
    "version": 3
   },
   "file_extension": ".py",
   "mimetype": "text/x-python",
   "name": "python",
   "nbconvert_exporter": "python",
   "pygments_lexer": "ipython3",
   "version": "3.7.6"
  }
 },
 "nbformat": 4,
 "nbformat_minor": 4
}
