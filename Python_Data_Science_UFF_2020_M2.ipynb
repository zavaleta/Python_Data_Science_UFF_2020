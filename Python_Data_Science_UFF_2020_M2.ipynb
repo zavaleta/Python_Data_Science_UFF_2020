{
 "cells": [
  {
   "cell_type": "markdown",
   "metadata": {
    "colab_type": "text",
    "id": "7DeINWpjiCAH"
   },
   "source": [
    "# Python para Data Science\n",
    "## PGEB UFF 2020\n",
    "### Prof. Dr. Jorge Zavaleta\n",
    "#### zavaleta.jorge@gmail.com\n",
    "##### Niterói, 17 ao 20 fevreiro, 2020"
   ]
  },
  {
   "cell_type": "markdown",
   "metadata": {
    "colab_type": "text",
    "id": "fHj8rW6WmA6P"
   },
   "source": [
    "---"
   ]
  },
  {
   "cell_type": "markdown",
   "metadata": {
    "colab_type": "text",
    "id": "Q8XbND3fl2N6"
   },
   "source": [
    "# Módulo 02 - NumPy\n",
    "\n",
    "Em DataScience (DS) devem ser manipulados e transformados dados diversos quanto ao tipo e à origem. O armazenamento e manipulação eficiente de matrizes numéricas é absolutamente fundamental para fazer ciência de dados. \n",
    "\n",
    "Nessa perspectiva será feita uma revisão especial das ferramentas personalizadas que o Python possui para lidar com matrizes numéricas: Os pacotes NumPy (Módulo 02) e Pandas (Módulo 03).\n",
    "\n",
    "A biblioteca NumPy (abreviação de Python Numérico) fornece uma interface eficiente para armazenar e operar em buffers de dados densos. As matrizes NumPy são como o tipo *‘list’* do Python, no entanto, as matrizes NumPy fornecem um armazenamento mais eficiente e operações com dados à medida que as matrizes aumentam de tamanho. \n",
    "\n",
    "As matrizes NumPy formam o **núcleo** de quase todo o **ecossistema** de ferramentas de DS em Python. Logo, saber lidar e usar o NumPy de forma eficaz será de grande importância para quem pretende lidar com DS nas mas diversas áreas de aplicação.\n",
    "\n",
    "Maiores informações podem ser encontrada em https://numpy.org/"
   ]
  },
  {
   "cell_type": "markdown",
   "metadata": {
    "colab_type": "text",
    "id": "yKK0TaHNwocs"
   },
   "source": [
    "## Importando a biblioteca NumPy"
   ]
  },
  {
   "cell_type": "code",
   "execution_count": null,
   "metadata": {
    "colab": {},
    "colab_type": "code",
    "id": "erMRiLMoh-dr"
   },
   "outputs": [],
   "source": [
    "# importando a biblioteca numpy\n",
    "import numpy as np"
   ]
  },
  {
   "cell_type": "code",
   "execution_count": null,
   "metadata": {
    "colab": {},
    "colab_type": "code",
    "id": "aBuM68_ii3qe"
   },
   "outputs": [],
   "source": [
    "# verficando a versão da biblioteca numpy\n",
    "np.__version__"
   ]
  },
  {
   "cell_type": "code",
   "execution_count": null,
   "metadata": {
    "colab": {},
    "colab_type": "code",
    "id": "wUz5jBi4i3ly"
   },
   "outputs": [],
   "source": [
    "# help\n",
    "np?"
   ]
  },
  {
   "cell_type": "markdown",
   "metadata": {
    "colab_type": "text",
    "id": "qkchjJcvykWQ"
   },
   "source": [
    "## Listas em Numpy"
   ]
  },
  {
   "cell_type": "code",
   "execution_count": null,
   "metadata": {
    "colab": {},
    "colab_type": "code",
    "id": "yNYpgEuiyUP_"
   },
   "outputs": [],
   "source": [
    "# exemplo numpy-01\n",
    "# criando uma lista de inteiros\n",
    "L = list(range(10))\n",
    "print('L = ',L)"
   ]
  },
  {
   "cell_type": "code",
   "execution_count": null,
   "metadata": {
    "colab": {},
    "colab_type": "code",
    "id": "dXhh17vwyUiy"
   },
   "outputs": [],
   "source": [
    "# exemplo numpy-02\n",
    "# verificando o tipo\n",
    "type(L[0])"
   ]
  },
  {
   "cell_type": "code",
   "execution_count": null,
   "metadata": {
    "colab": {},
    "colab_type": "code",
    "id": "DxyUkglxyUtO"
   },
   "outputs": [],
   "source": [
    "# exemplo numpy-03\n",
    "# criando uma lista de strings\n",
    "L1 =[str(c) for c in L]\n",
    "L1"
   ]
  },
  {
   "cell_type": "code",
   "execution_count": null,
   "metadata": {
    "colab": {},
    "colab_type": "code",
    "id": "U9P0VhQuyU6N"
   },
   "outputs": [],
   "source": [
    "# exemplo numpy-04\n",
    "# Verificando o tipo da string\n",
    "type(L1[0])"
   ]
  },
  {
   "cell_type": "code",
   "execution_count": null,
   "metadata": {
    "colab": {},
    "colab_type": "code",
    "id": "fp6_TKT-yVEI"
   },
   "outputs": [],
   "source": [
    "# exemplo numpy-05\n",
    "# criando lista heterogénea\n",
    "L2 = [False, \"J\", '2', 3.0, 0, 2-4j]\n",
    "L3 = [type(item) for item in L2]\n",
    "print('LH : ',L3)"
   ]
  },
  {
   "cell_type": "markdown",
   "metadata": {
    "colab_type": "text",
    "id": "xSMZ_S1z3bIq"
   },
   "source": [
    "## Arrays de Tipo Fixo\n",
    "Python oferece diversas opções para armazenar dados de forma eficiente, buffers de dados de tipo fixo. O módulo **array** (python >= 3.3) pode ser usado para criar arrays densos de tipo uniforme."
   ]
  },
  {
   "cell_type": "code",
   "execution_count": null,
   "metadata": {
    "colab": {},
    "colab_type": "code",
    "id": "8rsygrGXyU3L"
   },
   "outputs": [],
   "source": [
    "# exemplo numpy-06\n",
    "# criando array de tipo fixo\n",
    "import array \n",
    "L4 = list(range(10))\n",
    "A = array.array('i',L4)\n",
    "print('A : ',A)"
   ]
  },
  {
   "cell_type": "markdown",
   "metadata": {
    "colab_type": "text",
    "id": "iPo3yabu6oP_"
   },
   "source": [
    "No exemplo numpy-06, o índice **'i'** indica que o conteúdo é de inteiros. Se dos dados foram reais?, booleanos?, etc."
   ]
  },
  {
   "cell_type": "markdown",
   "metadata": {
    "colab_type": "text",
    "id": "_SaQXIVh8bn9"
   },
   "source": [
    "## Criando Listas de Listas Python"
   ]
  },
  {
   "cell_type": "code",
   "execution_count": null,
   "metadata": {
    "colab": {},
    "colab_type": "code",
    "id": "RxSskQPSyU1B"
   },
   "outputs": [],
   "source": [
    "# exemplo numpy-07\n",
    "# criando um array de inteiros\n",
    "I = np.array([1, 3, 5, 7, 9, 0])\n",
    "print('I : ',I)"
   ]
  },
  {
   "cell_type": "code",
   "execution_count": null,
   "metadata": {
    "colab": {},
    "colab_type": "code",
    "id": "jnHXvpbvyUyT"
   },
   "outputs": [],
   "source": [
    "# exemplo numpy-08\n",
    "# criando uma array de mixto\n",
    "M = np.array([1.0, 3.5, 5, 7, 9, 0])\n",
    "print('M : ',M)"
   ]
  },
  {
   "cell_type": "code",
   "execution_count": null,
   "metadata": {
    "colab": {},
    "colab_type": "code",
    "id": "8c9J7irryUrB"
   },
   "outputs": [],
   "source": [
    "# exemplo numpy-09\n",
    "# Fixar o tipo de dados de uma array\n",
    "I1 = np.array([1, 3, 5, 7, 9, 0], dtype='float32')\n",
    "print(\"I : \",I1)"
   ]
  },
  {
   "cell_type": "code",
   "execution_count": null,
   "metadata": {
    "colab": {},
    "colab_type": "code",
    "id": "mNH-ijbCyUn9"
   },
   "outputs": [],
   "source": [
    "# exemplo numpy-10\n",
    "# criando um array multidimensional\n",
    "M1 = np.array([range(i, i + 3) for i in [2, 4, 6]])\n",
    "print('Multidimensional : ',M1)"
   ]
  },
  {
   "cell_type": "markdown",
   "metadata": {
    "colab_type": "text",
    "id": "Sw7KXV6JAhLm"
   },
   "source": [
    "## Criando Arrays de Zero"
   ]
  },
  {
   "cell_type": "code",
   "execution_count": null,
   "metadata": {
    "colab": {},
    "colab_type": "code",
    "id": "jF752973yUgi"
   },
   "outputs": [],
   "source": [
    "# exemplo numpy-11\n",
    "# criando um array de zeros\n",
    "Z = np.zeros(10, dtype=int)\n",
    "Z"
   ]
  },
  {
   "cell_type": "code",
   "execution_count": null,
   "metadata": {
    "colab": {},
    "colab_type": "code",
    "id": "xKTq-PM8yUdI"
   },
   "outputs": [],
   "source": [
    "# exemplo numpy-12\n",
    "# criando uma array de 3x5 de dados de tipo real (float)\n",
    "U = np.ones((3,5), dtype=float)\n",
    "U"
   ]
  },
  {
   "cell_type": "code",
   "execution_count": null,
   "metadata": {
    "colab": {},
    "colab_type": "code",
    "id": "O6m1P4HfyUZT"
   },
   "outputs": [],
   "source": [
    "# exemplo numpy-13\n",
    "# criando uma array de 3x5 de dados com 3.14\n",
    "U1 = np.full((3,5), 3.14)\n",
    "U1"
   ]
  },
  {
   "cell_type": "code",
   "execution_count": null,
   "metadata": {
    "colab": {},
    "colab_type": "code",
    "id": "0r34__QpyUXX"
   },
   "outputs": [],
   "source": [
    "# exemplo numpy-14\n",
    "# criar uma array com valores de uma sequência linear de 0 a 20\n",
    "# com incremento (paso) 2.\n",
    "Ar = np.arange(0,20,2)\n",
    "Ar"
   ]
  },
  {
   "cell_type": "code",
   "execution_count": null,
   "metadata": {
    "colab": {},
    "colab_type": "code",
    "id": "mTLuIK7CyUUZ"
   },
   "outputs": [],
   "source": [
    "# exemplo numpy-15\n",
    "# criar uma array de 5 valores espaciados entre 0 e 1.\n",
    "lin = np.linspace(0,1,5)\n",
    "print('L : ',lin)"
   ]
  },
  {
   "cell_type": "code",
   "execution_count": null,
   "metadata": {
    "colab": {},
    "colab_type": "code",
    "id": "IdqfQylKyUMo"
   },
   "outputs": [],
   "source": [
    "# exemplo numpy-16\n",
    "# criar uma array 4x7 de distribuição uniforme (0,1)\n",
    "R = np.random.random((4,7))\n",
    "R"
   ]
  },
  {
   "cell_type": "code",
   "execution_count": null,
   "metadata": {
    "colab": {},
    "colab_type": "code",
    "id": "hQmo6H17yUKG"
   },
   "outputs": [],
   "source": [
    "# exemplo numpy-17\n",
    "# criar uma array 5x5 de distribuição normal com valores aleatórios\n",
    "# com media 0 e desvio padrão 1.\n",
    "R1 = np.random.normal(0,1,(5,5))\n",
    "R1"
   ]
  },
  {
   "cell_type": "code",
   "execution_count": null,
   "metadata": {
    "colab": {},
    "colab_type": "code",
    "id": "ZeefYKbyyUF9"
   },
   "outputs": [],
   "source": [
    "# exemplo numpy-18\n",
    "# criar uma array 4x4 de inteiros aleatórios no intervalo [0,5]\n",
    "R2 = np.random.randint(0,5,(4,4))\n",
    "R2"
   ]
  },
  {
   "cell_type": "code",
   "execution_count": null,
   "metadata": {
    "colab": {},
    "colab_type": "code",
    "id": "tNUpP6JNuJR8"
   },
   "outputs": [],
   "source": [
    "# exemplo numpy-19\n",
    "# criar uma matriz identidade de 5x5\n",
    "Mi = np.eye(5)\n",
    "Mi"
   ]
  },
  {
   "cell_type": "markdown",
   "metadata": {
    "colab_type": "text",
    "id": "ilMuVojFyDEa"
   },
   "source": [
    "## Tipos de Dados Padrão no NumPy"
   ]
  },
  {
   "cell_type": "code",
   "execution_count": null,
   "metadata": {
    "colab": {},
    "colab_type": "code",
    "id": "yUar42zBuJaC"
   },
   "outputs": [],
   "source": [
    "# exemplo numpy-20\n",
    "# Array de zeros\n",
    "T1 = np.zeros(8,dtype='int16')\n",
    "T1"
   ]
  },
  {
   "cell_type": "code",
   "execution_count": null,
   "metadata": {
    "colab": {},
    "colab_type": "code",
    "id": "wpWwANi9uJXB"
   },
   "outputs": [],
   "source": [
    "# exemplo numpy-21\n",
    "# Array de zeros\n",
    "T2 = np.zeros(8,dtype=np.int16)\n",
    "T2"
   ]
  },
  {
   "cell_type": "markdown",
   "metadata": {
    "colab_type": "text",
    "id": "OOmeNmSIAcki"
   },
   "source": [
    "Os diversos tipos de dados padrão NumPy podem ser encontrados em https://numpy.org/devdocs/user/basics.types.html"
   ]
  },
  {
   "cell_type": "markdown",
   "metadata": {
    "colab_type": "text",
    "id": "_Dv0j8tBB6uD"
   },
   "source": [
    "## Noções Básicas de Arrays (matrizes) NumPy\n",
    "Manipulação de matrizes NumPy para acessar dados e sub-matrizes, para dividir, redimensionar e unir matrizes."
   ]
  },
  {
   "cell_type": "markdown",
   "metadata": {
    "colab_type": "text",
    "id": "Dj9lkhGeEFzc"
   },
   "source": [
    "### Atributos de Matrizes NumPy"
   ]
  },
  {
   "cell_type": "code",
   "execution_count": null,
   "metadata": {
    "colab": {},
    "colab_type": "code",
    "id": "IEAnf_m4uJOW"
   },
   "outputs": [],
   "source": [
    "# exemplo numpy-22\n",
    "# Atributos: ndim, shape, size.\n",
    "x1 = np.random.randint(10, size=5) # 1-D\n",
    "x2 = np.random.randint(10, size=(4, 5)) # 2-D\n",
    "x3 = np.random.randint(10, size=(3, 5, 6)) # 3-D\n",
    "print(\"x1 : \", x1)\n",
    "print(\"x2 : \", x2)\n",
    "print(\"x3 : \", x3)\n",
    "# atributos: ndim (numero de dim), shape (tamanho de cada dimensões), \n",
    "# size (tamanho total da matriz)\n",
    "print(\"x3 ndim : \", x3.ndim)\n",
    "print(\"x3 shape : \", x3.shape)\n",
    "print(\"x3 size : \", x3.size)"
   ]
  },
  {
   "cell_type": "code",
   "execution_count": null,
   "metadata": {
    "colab": {},
    "colab_type": "code",
    "id": "Qhj8AdRBuJK-"
   },
   "outputs": [],
   "source": [
    "# exemplo numpy-23\n",
    "# atributo : dtype\n",
    "print(\"dtype:\", x3.dtype)"
   ]
  },
  {
   "cell_type": "code",
   "execution_count": null,
   "metadata": {
    "colab": {},
    "colab_type": "code",
    "id": "I0VH4utMuJH0"
   },
   "outputs": [],
   "source": [
    "# exemplo numpy-24\n",
    "# atributos : itemsize e nbytes (itemsize = nbytes!!!)\n",
    "print(\"itemsize: \", x3.itemsize, \"bytes\")\n",
    "print(\"nbytes: \", x3.nbytes, \"bytes\")"
   ]
  },
  {
   "cell_type": "markdown",
   "metadata": {
    "colab_type": "text",
    "id": "STIohHfIJw17"
   },
   "source": [
    "### Indexação de Matrizes: Acessando Elementos Simples"
   ]
  },
  {
   "cell_type": "code",
   "execution_count": null,
   "metadata": {
    "colab": {},
    "colab_type": "code",
    "id": "G5YjgHFiuJE5"
   },
   "outputs": [],
   "source": [
    "# exemplo numpy-25\n",
    "# Usando índice para acessar elementos da array: array[indice]\n",
    "elemento = x1[0] \n",
    "print('Elementos : ',elemento)"
   ]
  },
  {
   "cell_type": "code",
   "execution_count": null,
   "metadata": {
    "colab": {},
    "colab_type": "code",
    "id": "9_uRjUNXuJBy"
   },
   "outputs": [],
   "source": [
    "# exemplo numpy-26\n",
    "# Para indexar a partir do final da matriz, se pode usar índices negativos.\n",
    "N = np.array([0, 1, 2, 3, 4, 5])\n",
    "N1 = N[-1]\n",
    "print(N1)"
   ]
  },
  {
   "cell_type": "code",
   "execution_count": null,
   "metadata": {
    "colab": {},
    "colab_type": "code",
    "id": "W47I6B1PuI_S"
   },
   "outputs": [],
   "source": [
    "# exemplo numpy-27\n",
    "# acessar elementos de uma array multidimensional [i,j], i,j = 0..N\n",
    "print('D : ',x2.shape)\n",
    "print('x1[2,2] = ',x2[2,2]) # elemento na linha = 2 e coluna = 2"
   ]
  },
  {
   "cell_type": "code",
   "execution_count": null,
   "metadata": {
    "colab": {},
    "colab_type": "code",
    "id": "c5b8KbNRuI7i"
   },
   "outputs": [],
   "source": [
    "# exemplo numpy-28\n",
    "# mudando um elemento de uma matriz\n",
    "Mat = np.array([[0,1,2,3],[4, 5, 6, 7],[8, 9, 10,11]])\n",
    "# dimensão da matriz\n",
    "Dim = print('D: ',Mat.shape)\n",
    "# mudando um elemento\n",
    "Mat[2,2]= -1\n",
    "print(Mat)"
   ]
  },
  {
   "cell_type": "markdown",
   "metadata": {
    "colab_type": "text",
    "id": "xYMdbk2Vm6CH"
   },
   "source": [
    "### Divisão de Matrizes. Acessando Submatrizes\n",
    "A sintaxe para dividir uma matriz NumPy segue o padrão de uma lista em Python. Para acessar uma  divisão ou fatia ou parte de uma matriz (submatriz) X, usa-se a seguinte sintaxe:\n",
    "\n",
    "**X[inicio:fim:paso]** ou **X[start:stop:step]**"
   ]
  },
  {
   "cell_type": "code",
   "execution_count": null,
   "metadata": {
    "colab": {},
    "colab_type": "code",
    "id": "QRzY0Ax0uI2W"
   },
   "outputs": [],
   "source": [
    "# exemplo numpy-29\n",
    "# uma submatriz unidimensional\n",
    "X = np.arange(10)\n",
    "X"
   ]
  },
  {
   "cell_type": "code",
   "execution_count": null,
   "metadata": {
    "colab": {},
    "colab_type": "code",
    "id": "VWa6927Em8GD"
   },
   "outputs": [],
   "source": [
    "# exemplo numpy-30\n",
    "# os 4 elementos iniciais\n",
    "x4 = X[:4]\n",
    "print(x4)"
   ]
  },
  {
   "cell_type": "code",
   "execution_count": null,
   "metadata": {
    "colab": {},
    "colab_type": "code",
    "id": "7XuTrUkVm8Cx"
   },
   "outputs": [],
   "source": [
    "# exemplo numpy-31\n",
    "# Os elementos depois do índice 5\n",
    "x5 = X[5:]\n",
    "print(x5)"
   ]
  },
  {
   "cell_type": "code",
   "execution_count": null,
   "metadata": {
    "colab": {},
    "colab_type": "code",
    "id": "L4taS1M3m7_s"
   },
   "outputs": [],
   "source": [
    "# exemplo numpy-32\n",
    "# subarray media\n",
    "med = X[3:7]\n",
    "print(med)"
   ]
  },
  {
   "cell_type": "code",
   "execution_count": null,
   "metadata": {
    "colab": {},
    "colab_type": "code",
    "id": "6AvHSn3Em79p"
   },
   "outputs": [],
   "source": [
    "# exemplo numpy-33\n",
    "# Qualquer outro elemento\n",
    "Q1 = X[::2]\n",
    "print(Q1)"
   ]
  },
  {
   "cell_type": "code",
   "execution_count": null,
   "metadata": {
    "colab": {},
    "colab_type": "code",
    "id": "zod-e0nim75v"
   },
   "outputs": [],
   "source": [
    "# exemplo numpy-34\n",
    "# Qualquer outro elemento, iniciando em 1\n",
    "Q2 = X[1::2]\n",
    "print(Q2)"
   ]
  },
  {
   "cell_type": "code",
   "execution_count": null,
   "metadata": {
    "colab": {},
    "colab_type": "code",
    "id": "-VOdttV7m724"
   },
   "outputs": [],
   "source": [
    "# exemplo numpy-35\n",
    "# step = paso = negativo = -1: reverso\n",
    "N1 = X[::-1]\n",
    "print(N1)"
   ]
  },
  {
   "cell_type": "code",
   "execution_count": null,
   "metadata": {
    "colab": {},
    "colab_type": "code",
    "id": "Jkq2ETRAm7zn"
   },
   "outputs": [],
   "source": [
    "# exemplo numpy-36\n",
    "# reversa cada elemento a partir do indice 5\n",
    "N2 = X[5::-2]\n",
    "print(N2)"
   ]
  },
  {
   "cell_type": "markdown",
   "metadata": {
    "colab_type": "text",
    "id": "u4T4vp35u1dx"
   },
   "source": [
    "### SubMatrizes Multidimensionais"
   ]
  },
  {
   "cell_type": "code",
   "execution_count": null,
   "metadata": {
    "colab": {},
    "colab_type": "code",
    "id": "BVBFxGv4m7wh"
   },
   "outputs": [],
   "source": [
    "# exemplo numpy-37\n",
    "# Matriz multidimensional\n",
    "Mul = np.array([[12, 8, 4, 0],[5, 4, 3, 2],[3, 3, 2, 1]])\n",
    "Mul"
   ]
  },
  {
   "cell_type": "code",
   "execution_count": null,
   "metadata": {
    "colab": {},
    "colab_type": "code",
    "id": "YnvF2xMPm7tY"
   },
   "outputs": [],
   "source": [
    "# exemplo numpy-38\n",
    "# dois linhas (filas) e três colunas\n",
    "S1 = Mul[:2, :3]\n",
    "S1"
   ]
  },
  {
   "cell_type": "code",
   "execution_count": null,
   "metadata": {
    "colab": {},
    "colab_type": "code",
    "id": "WA_WdvJTm7p9"
   },
   "outputs": [],
   "source": [
    "# exemplo numpy-39\n",
    "# todas linhas, as outras colunas ***\n",
    "S2 = Mul[:3, ::2]\n",
    "S2"
   ]
  },
  {
   "cell_type": "code",
   "execution_count": null,
   "metadata": {
    "colab": {},
    "colab_type": "code",
    "id": "lbRphGThm7mt"
   },
   "outputs": [],
   "source": [
    "# exemplo numpy-40\n",
    "# submatriz reversa\n",
    "R1 = Mul[::-1, ::-1]\n",
    "R1"
   ]
  },
  {
   "cell_type": "code",
   "execution_count": null,
   "metadata": {
    "colab": {},
    "colab_type": "code",
    "id": "j4G_hlAXm7je"
   },
   "outputs": [],
   "source": [
    "# exemplo numpy-41\n",
    "# 1a coluna da matriz Mul\n",
    "print(Mul[:,0])"
   ]
  },
  {
   "cell_type": "code",
   "execution_count": null,
   "metadata": {
    "colab": {},
    "colab_type": "code",
    "id": "AjfJLWXm35Fh"
   },
   "outputs": [],
   "source": [
    "# exemplo numpy-42\n",
    "# submatriz 2x2\n",
    "print(Mul)\n",
    "sub_M = Mul[:2, :2]\n",
    "sub_M"
   ]
  },
  {
   "cell_type": "code",
   "execution_count": null,
   "metadata": {
    "colab": {},
    "colab_type": "code",
    "id": "VPs_ZjMV35d9"
   },
   "outputs": [],
   "source": [
    "# exemplo numpy-43\n",
    "# Modificar elementos da submatriz\n",
    "sub_M[0,0]= -9\n",
    "print(sub_M)\n",
    "# modifica elemento da matriz\n",
    "print(Mul)"
   ]
  },
  {
   "cell_type": "markdown",
   "metadata": {
    "colab_type": "text",
    "id": "Ce3PEFPD6kCs"
   },
   "source": [
    "### Redimensionamento de Matrizes"
   ]
  },
  {
   "cell_type": "code",
   "execution_count": null,
   "metadata": {
    "colab": {},
    "colab_type": "code",
    "id": "4mUShNX835qY"
   },
   "outputs": [],
   "source": [
    "# exemplo numpy-44\n",
    "# redimensionar uma matriz\n",
    "G = np.arange(1,10)\n",
    "print('G =',G)\n",
    "print(' ')\n",
    "RS = G.reshape((3,3))\n",
    "print('G = ',RS)"
   ]
  },
  {
   "cell_type": "markdown",
   "metadata": {
    "colab_type": "text",
    "id": "pg_39-jT81Ds"
   },
   "source": [
    "### Concatenação e Divisão de Matrizes"
   ]
  },
  {
   "cell_type": "code",
   "execution_count": null,
   "metadata": {
    "colab": {},
    "colab_type": "code",
    "id": "8CmvbiOZ35ny"
   },
   "outputs": [],
   "source": [
    "# exemplo numpy-45\n",
    "# concatenação\n",
    "A = np.array([3, 2, 1])\n",
    "B = np.array([1, 0, -1])\n",
    "C = np.concatenate([A,B])\n",
    "C"
   ]
  },
  {
   "cell_type": "code",
   "execution_count": null,
   "metadata": {
    "colab": {},
    "colab_type": "code",
    "id": "0KRGCtDa35kK"
   },
   "outputs": [],
   "source": [
    "# exemplo numpy-46\n",
    "# + Concatenação \n",
    "Z = np.array([-9, -9, -9])\n",
    "z = np.concatenate([A, B, Z])\n",
    "z"
   ]
  },
  {
   "cell_type": "code",
   "execution_count": null,
   "metadata": {
    "colab": {},
    "colab_type": "code",
    "id": "WbVEYkMt35Ch"
   },
   "outputs": [],
   "source": [
    "# exemplo numpy-47\n",
    "# split = corte = fatia\n",
    "xx = [1, 2, 3, 99, 99, 3, 2, 1]\n",
    "xa, xb, xc = np.split(xx,[3, 5])\n",
    "print(xa, xb, xc)"
   ]
  },
  {
   "cell_type": "markdown",
   "metadata": {
    "colab_type": "text",
    "id": "VXnhCtEFAoSQ"
   },
   "source": [
    "## Funções NumPy"
   ]
  },
  {
   "cell_type": "markdown",
   "metadata": {
    "colab_type": "text",
    "id": "SaZxsxZJA58v"
   },
   "source": [
    "### Expoentes e Logaritmos"
   ]
  },
  {
   "cell_type": "code",
   "execution_count": null,
   "metadata": {
    "colab": {},
    "colab_type": "code",
    "id": "l4Bh_P1_348W"
   },
   "outputs": [],
   "source": [
    "# exemplo numpy-48\n",
    "# expoentes\n",
    "V = [1, 2, 3]\n",
    "print(\"V =\", V)\n",
    "print(\"e^V =\", np.exp(V))\n",
    "print(\"2^V =\", np.exp2(V))\n",
    "print(\"3^V =\", np.power(3, V))"
   ]
  },
  {
   "cell_type": "code",
   "execution_count": null,
   "metadata": {
    "colab": {
     "base_uri": "https://localhost:8080/",
     "height": 85
    },
    "colab_type": "code",
    "executionInfo": {
     "elapsed": 669,
     "status": "ok",
     "timestamp": 1581639065869,
     "user": {
      "displayName": "Jorge Zavaleta",
      "photoUrl": "https://lh3.googleusercontent.com/a-/AAuE7mCdm255Tti-EW4t2kfnEJl5ADtcWN1Y32-thP_XyA=s64",
      "userId": "14164610708032436409"
     },
     "user_tz": 180
    },
    "id": "X_lszV3Y4N0V",
    "outputId": "06d987bc-3158-4f06-998a-13443592c592"
   },
   "outputs": [],
   "source": [
    "# exemplo numpy-49\n",
    "# logaritmos\n",
    "l = [1, 2, 4, 10]\n",
    "print(\"l =\", l)\n",
    "print(\"ln(l) =\", np.log(l))\n",
    "print(\"log2(l) =\", np.log2(l))\n",
    "print(\"log10(l) =\", np.log10(l))"
   ]
  },
  {
   "cell_type": "code",
   "execution_count": null,
   "metadata": {
    "colab": {},
    "colab_type": "code",
    "id": "O53ixGMv4QWx"
   },
   "outputs": [],
   "source": [
    "# exemplo numpy-50\n",
    "# funções especializadas\n",
    "y = [0, 0.001, 0.01, 0.1]\n",
    "print(\"exp(y) - 1 =\", np.expm1(y))\n",
    "print(\"log(1 + y) =\", np.log1p(y))"
   ]
  },
  {
   "cell_type": "markdown",
   "metadata": {
    "colab_type": "text",
    "id": "ihAd-QNeEGKo"
   },
   "source": [
    "## Agregações: Min e Max"
   ]
  },
  {
   "cell_type": "code",
   "execution_count": null,
   "metadata": {
    "colab": {},
    "colab_type": "code",
    "id": "ttTcjPpw344o"
   },
   "outputs": [],
   "source": [
    "# exemplo numpy-51\n",
    "#  Soma de todos os valores\n",
    "L = np.random.random(100)\n",
    "S = sum(L)\n",
    "S"
   ]
  },
  {
   "cell_type": "code",
   "execution_count": null,
   "metadata": {
    "colab": {},
    "colab_type": "code",
    "id": "FVZrdgxtEQ0y"
   },
   "outputs": [],
   "source": [
    "# exemplo numpy-52\n",
    "#  tempo de compilação\n",
    "big_matriz = np.random.rand(1000000)\n",
    "%timeit sum(big_matriz)\n",
    "%timeit np.sum(big_matriz)"
   ]
  },
  {
   "cell_type": "code",
   "execution_count": null,
   "metadata": {
    "colab": {},
    "colab_type": "code",
    "id": "4meAzo2TEROE"
   },
   "outputs": [],
   "source": [
    "# exemplo numpy-53\n",
    "# mínimo e máximo\n",
    "min(big_matriz), max(big_matriz)"
   ]
  },
  {
   "cell_type": "code",
   "execution_count": null,
   "metadata": {
    "colab": {},
    "colab_type": "code",
    "id": "40iEna2TERyM"
   },
   "outputs": [],
   "source": [
    "# exemplo numpy-54\n",
    "# mínimo e máximo\n",
    "np.min(big_matriz), np.max(big_matriz)"
   ]
  },
  {
   "cell_type": "code",
   "execution_count": null,
   "metadata": {
    "colab": {},
    "colab_type": "code",
    "id": "0g5WJAUeERuk"
   },
   "outputs": [],
   "source": [
    "# exemplo numpy-55\n",
    "# mínimo e máximo\n",
    "%timeit min(big_matriz)\n",
    "%timeit np.min(big_matriz)"
   ]
  },
  {
   "cell_type": "markdown",
   "metadata": {
    "colab_type": "text",
    "id": "xEAqnnWaBws2"
   },
   "source": [
    "### Funções de Agregação"
   ]
  },
  {
   "cell_type": "markdown",
   "metadata": {
    "colab_type": "text",
    "id": "JMvbReQ9AFCi"
   },
   "source": [
    "| Função  |  NaN Versão| Descrição  | \n",
    "|---      |---         |---         |\n",
    "|  np.sum | np.nansum | Compute sum of elements |\n",
    "| np.prod | np.nanprod | Compute product of elements |\n",
    "| np.mean | np.nanmean | Compute median of elements |\n",
    "| np.std | np.nanstd | Compute standard deviation |\n",
    "| np.var | np.nanvar | Compute variance |\n",
    "| np.min | np.nanmin | Find minimum value |\n",
    "| np.max | np.nanmax | Find maximum value |\n",
    "| np.argmin | np.nanargmin | Find index of minimum value |\n",
    "| np.argmax | np.nanargmax | Find index of maximum value |\n",
    "| np.median | np.nanmedian | Compute median of elements |\n",
    "| np.percentile | np.nanpercentile | Compute rank-based statistics of elements |\n",
    "| np.any | N/A | Evaluate whether any elements are true |\n",
    "| np.all | N/A | Evaluate whether all elements are true |\n"
   ]
  },
  {
   "cell_type": "code",
   "execution_count": null,
   "metadata": {
    "colab": {},
    "colab_type": "code",
    "id": "R_X6rP4CERrI"
   },
   "outputs": [],
   "source": [
    "# exemplo numpy-56\n",
    "# criando um vetor\n",
    "vet = np.arange(1,100)\n",
    "vet"
   ]
  },
  {
   "cell_type": "code",
   "execution_count": null,
   "metadata": {
    "colab": {},
    "colab_type": "code",
    "id": "lgEXt-6jERLo"
   },
   "outputs": [],
   "source": [
    "# exemplo numpy-57\n",
    "# Alguns agragados\n",
    "vs = vet.sum()\n",
    "vm = vet.mean()\n",
    "vd = vet.std()\n",
    "vmin = vet.min()\n",
    "vmax = vet.max()\n",
    "print('soma = ',vs)\n",
    "print('Média = ',vm)\n",
    "print('Desvio = ',vd)\n",
    "print('Mínimo = ',vmin)\n",
    "print('Máximo = ',vmax)\n",
    "print('Mediana = ',np.median(vet))"
   ]
  },
  {
   "cell_type": "markdown",
   "metadata": {
    "colab_type": "text",
    "id": "-ElCgQLFHVXc"
   },
   "source": [
    "**Exercício**: Os pesos (kg) dos alunos de curso são: 50, 55.5, 60.5, 60.8, 63.7, 68.9, 70.3, 80.5, 90. Usando essa informação fazer os cálculos para todas as funções de agregação."
   ]
  },
  {
   "cell_type": "code",
   "execution_count": null,
   "metadata": {
    "colab": {},
    "colab_type": "code",
    "id": "WV7i-tOQERJS"
   },
   "outputs": [],
   "source": [
    "# exemplo numpy-58\n",
    "# Exemplo de uso de agregados\n",
    "pesos = np.linspace(50, 80, num=50)\n",
    "print(pesos)\n",
    "valores = np.linspace(1, 30, num=50)\n",
    "print(valores)\n",
    "# * / -= / += / *=\n",
    "print(pesos * valores) "
   ]
  },
  {
   "cell_type": "code",
   "execution_count": null,
   "metadata": {
    "colab": {},
    "colab_type": "code",
    "id": "umDE1an3ERE3"
   },
   "outputs": [],
   "source": [
    "# exemplo numpy-59\n",
    "#  uso de -=\n",
    "pesos -= valores\n",
    "print(pesos)"
   ]
  },
  {
   "cell_type": "code",
   "execution_count": null,
   "metadata": {
    "colab": {},
    "colab_type": "code",
    "id": "NOkYyhw7EQ_7"
   },
   "outputs": [],
   "source": [
    "# exemplo numpy-60\n",
    "# soma = +\n",
    "nova = pesos + valores\n",
    "print(nova)"
   ]
  },
  {
   "cell_type": "markdown",
   "metadata": {},
   "source": [
    "### Matrizes Multidimensionais"
   ]
  },
  {
   "cell_type": "code",
   "execution_count": null,
   "metadata": {},
   "outputs": [],
   "source": [
    "# exemplo numpy-61\n",
    "# definição de uma função\n",
    "def f(x,y):\n",
    "    return x*y*10"
   ]
  },
  {
   "cell_type": "code",
   "execution_count": null,
   "metadata": {},
   "outputs": [],
   "source": [
    "# exemplo numpy-62\n",
    "# informação pasada por tuplas separados por comas\n",
    "b = np.fromfunction(f,(5,4),dtype=int)\n",
    "b"
   ]
  },
  {
   "cell_type": "code",
   "execution_count": null,
   "metadata": {},
   "outputs": [],
   "source": [
    "# exemplo numpy-63\n",
    "# chamar diretamente a função\n",
    "c = f(3,3)\n",
    "c"
   ]
  },
  {
   "cell_type": "code",
   "execution_count": null,
   "metadata": {},
   "outputs": [],
   "source": [
    "# exemplo numpy-64\n",
    "# Mostra os elementos da linha 0 ao 4 da coluna 1\n",
    "b[0:4,1]"
   ]
  },
  {
   "cell_type": "code",
   "execution_count": null,
   "metadata": {},
   "outputs": [],
   "source": [
    "# exemplo numpy-65\n",
    "# acessando linhas de uma matriz\n",
    "for fila in b:\n",
    "    print(fila)"
   ]
  },
  {
   "cell_type": "markdown",
   "metadata": {},
   "source": [
    "### Funções"
   ]
  },
  {
   "cell_type": "code",
   "execution_count": null,
   "metadata": {},
   "outputs": [],
   "source": [
    "# exemplo numpy-66\n",
    "# definição de uma função\n",
    "def nome_f(parametro_a,parametro_b):\n",
    "    # corpo da função\n",
    "    soma = parametro_a + parametro_b\n",
    "    return soma"
   ]
  },
  {
   "cell_type": "code",
   "execution_count": null,
   "metadata": {},
   "outputs": [],
   "source": [
    "# exemplo numpy-67\n",
    "# chamando uma função\n",
    "variavel = nome_f(9,9)\n",
    "print('Variável = ',variavel)"
   ]
  },
  {
   "cell_type": "code",
   "execution_count": null,
   "metadata": {},
   "outputs": [],
   "source": [
    "# exemplo numpy-68\n",
    "# definir a função raiz quadrada\n",
    "def RQ(n):\n",
    "    v = np.sqrt(n)\n",
    "    return v"
   ]
  },
  {
   "cell_type": "code",
   "execution_count": null,
   "metadata": {},
   "outputs": [],
   "source": [
    "# exemplo numpy-69\n",
    "# chamando a função RQ\n",
    "rq = RQ(4)\n",
    "rq"
   ]
  },
  {
   "cell_type": "code",
   "execution_count": null,
   "metadata": {},
   "outputs": [],
   "source": [
    "# exemplo numpy-70\n",
    "# definição da função signo\n",
    "def sign(x):\n",
    "    if x > 0:\n",
    "        return 'Positivo'\n",
    "    elif x < 0:\n",
    "        return 'Negativo'\n",
    "    else:\n",
    "        return 'Nulo'"
   ]
  },
  {
   "cell_type": "code",
   "execution_count": null,
   "metadata": {},
   "outputs": [],
   "source": [
    "# exemplo numpy-71\n",
    "# chamando a função signo\n",
    "for x in [-1, 0, 1]:\n",
    "    print('Signo: ',sign(x))"
   ]
  },
  {
   "cell_type": "markdown",
   "metadata": {
    "colab_type": "text",
    "id": "6ZZMJYdaK_rN"
   },
   "source": [
    "# SciPy.stats\n",
    "Funções estatísticas interessantes"
   ]
  },
  {
   "cell_type": "code",
   "execution_count": null,
   "metadata": {
    "colab": {},
    "colab_type": "code",
    "id": "mRh9baNxEQ8H"
   },
   "outputs": [],
   "source": [
    "# exemplo scipy-01\n",
    "# importando o pacote\n",
    "import scipy.stats as stats\n",
    "# import numpy as np # já importado\n",
    "seq = np.random.randn(30)\n",
    "descricao = stats.describe(seq)\n",
    "descricao"
   ]
  },
  {
   "cell_type": "markdown",
   "metadata": {
    "colab_type": "text",
    "id": "i6MQEB5_Mj8M"
   },
   "source": [
    "O exemplo scipy-01, apresenta a estatística descritiva do vetor sequencia (uma amostra) com o método ***describe()***"
   ]
  },
  {
   "cell_type": "code",
   "execution_count": null,
   "metadata": {
    "colab": {},
    "colab_type": "code",
    "id": "Hb1YoHJdLM9a"
   },
   "outputs": [],
   "source": [
    "# exemplo scipy-02\n",
    "# otras funções\n",
    "print('Moda: ',stats.mode(seq))\n",
    "print('Normal: ',stats.normaltest(seq))"
   ]
  },
  {
   "cell_type": "markdown",
   "metadata": {
    "colab_type": "text",
    "id": "Yl3XMvBZOsV0"
   },
   "source": [
    "**OBS**: o \"*p-valor*\" confirma ou não a hipótese. Se for menor que **0.05** rejeitar hipótes e caso contrário segue a distribuição **normal**."
   ]
  },
  {
   "cell_type": "markdown",
   "metadata": {
    "colab_type": "text",
    "id": "423XYJfVi469"
   },
   "source": [
    "------\n",
    "Jorge Zavaleta &copy; 2020. zavaleta.jorge@gmail.com"
   ]
  }
 ],
 "metadata": {
  "colab": {
   "authorship_tag": "ABX9TyMKz4YO0JNMnD2q5R3Yf6Tz",
   "collapsed_sections": [],
   "name": "Python_Data_Science_UFF_2020_M2.ipynb",
   "provenance": []
  },
  "kernelspec": {
   "display_name": "Python 3",
   "language": "python",
   "name": "python3"
  },
  "language_info": {
   "codemirror_mode": {
    "name": "ipython",
    "version": 3
   },
   "file_extension": ".py",
   "mimetype": "text/x-python",
   "name": "python",
   "nbconvert_exporter": "python",
   "pygments_lexer": "ipython3",
   "version": "3.7.6"
  }
 },
 "nbformat": 4,
 "nbformat_minor": 4
}
